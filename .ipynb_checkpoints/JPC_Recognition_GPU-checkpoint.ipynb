{
 "cells": [
  {
   "cell_type": "markdown",
   "metadata": {},
   "source": [
    "# 圖片分類"
   ]
  },
  {
   "cell_type": "code",
   "execution_count": 119,
   "metadata": {
    "ExecuteTime": {
     "end_time": "2023-05-10T02:23:30.387803800Z",
     "start_time": "2023-05-10T02:23:29.283451Z"
    }
   },
   "outputs": [],
   "source": [
    "import os\n",
    "import shutil\n",
    "# 遍歷資料夾中的檔案\n",
    "for filename in os.listdir('./hiragana_images'):\n",
    "    # 判斷檔案是否為 jpg 檔\n",
    "    if filename.endswith('.jpg'):\n",
    "        # 取得檔名中的非數字字元\n",
    "        class_name = os.path.splitext(''.join(filter(lambda x: not x.isdigit(), filename)))[0]\n",
    "        # 建立目標資料夾\n",
    "        target_folder = os.path.join('./my_images', class_name)\n",
    "        if not os.path.exists(target_folder):\n",
    "            os.mkdir(target_folder)\n",
    "        # 複製檔案到對應的資料夾中\n",
    "        shutil.copy(os.path.join('./hiragana_images', filename), os.path.join(target_folder, filename))\n"
   ]
  },
  {
   "cell_type": "markdown",
   "metadata": {},
   "source": [
    "# 模型訓練"
   ]
  },
  {
   "cell_type": "code",
   "execution_count": 120,
   "metadata": {
    "ExecuteTime": {
     "end_time": "2023-05-10T02:23:30.391971700Z",
     "start_time": "2023-05-10T02:23:30.390463600Z"
    }
   },
   "outputs": [],
   "source": [
    "import torch\n",
    "import torch.nn as nn\n",
    "import torch.optim as optim\n",
    "import torchvision.datasets as datasets\n",
    "import torchvision.transforms as transforms\n",
    "from torch.utils.data import DataLoader\n",
    "from sklearn.model_selection import train_test_split"
   ]
  },
  {
   "cell_type": "code",
   "execution_count": 121,
   "metadata": {
    "ExecuteTime": {
     "end_time": "2023-05-10T02:23:30.396486700Z",
     "start_time": "2023-05-10T02:23:30.393974400Z"
    }
   },
   "outputs": [
    {
     "data": {
      "text/plain": [
       "device(type='cuda')"
      ]
     },
     "execution_count": 121,
     "metadata": {},
     "output_type": "execute_result"
    }
   ],
   "source": [
    "# 檢查是否有 GPU\n",
    "device = torch.device(\"cuda\" if torch.cuda.is_available() else \"cpu\")\n",
    "device"
   ]
  },
  {
   "cell_type": "code",
   "execution_count": 122,
   "metadata": {
    "ExecuteTime": {
     "end_time": "2023-05-10T02:23:30.400790200Z",
     "start_time": "2023-05-10T02:23:30.398487300Z"
    }
   },
   "outputs": [],
   "source": [
    "# 超參數\n",
    "\n",
    "num_classes = 50  # 50音分類\n",
    "batch_size = 10  #訓練樣本數\n",
    "num_epochs = 20  #一期訓練  Iteration = （Data set size / Batch size）* Epoch = (1000/20)*10 = 5000\n",
    "learning_rate = 0.001 #學習率"
   ]
  },
  {
   "cell_type": "code",
   "execution_count": 123,
   "metadata": {
    "ExecuteTime": {
     "end_time": "2023-05-10T02:23:30.404576100Z",
     "start_time": "2023-05-10T02:23:30.403067300Z"
    }
   },
   "outputs": [],
   "source": [
    "# 數據預處理\n",
    "transform = transforms.Compose([\n",
    "    transforms.Resize((32, 32)),  # 調整大小為 32x32\n",
    "    transforms.Grayscale(num_output_channels=1),  # 轉為單通道灰度圖像\n",
    "    transforms.ToTensor()  # 轉為張量\n",
    "])"
   ]
  },
  {
   "cell_type": "code",
   "execution_count": 124,
   "metadata": {
    "ExecuteTime": {
     "end_time": "2023-05-10T02:23:30.910222100Z",
     "start_time": "2023-05-10T02:23:30.407089800Z"
    }
   },
   "outputs": [],
   "source": [
    "# 載入數據 並將數據分配測試集和訓練集 8:2\n",
    "train_dataset = datasets.ImageFolder(root='./my_images', transform=transform) # datasets.ImageFolder 會將資料夾中的圖片依照資料夾名稱分類\n",
    "train_data, test_data = train_test_split(train_dataset, test_size=0.2, random_state=42) #train_test_split 會將資料分成兩部分，一部分用來訓練，一部分用來測試\n",
    "#訓練集\n",
    "train_loader = DataLoader(train_data, batch_size=batch_size, shuffle=True)  #每次訓練數量 = Data set size(*0.8) / Batch size = 800/20 = 40\n",
    "#測試集\n",
    "test_loader = DataLoader(test_data, batch_size=batch_size, shuffle=False)\n",
    "\n",
    "# # 載入數據\n",
    "# train_dataset = datasets.ImageFolder(root='F:\\pycharm_pro\\pytorch_learn\\my_images', transform=transform)\n",
    "# train_loader = DataLoader(train_dataset, batch_size=batch_size, shuffle=True)\n"
   ]
  },
  {
   "cell_type": "markdown",
   "metadata": {},
   "source": [
    "卷積層尺寸變化 =\n",
    "$$\n",
    "W_{new} = {W_{o} - Kernelsize + (2 \\times Padding) \\over Stride} +1\n",
    "$$"
   ]
  },
  {
   "cell_type": "code",
   "execution_count": 125,
   "metadata": {
    "ExecuteTime": {
     "end_time": "2023-05-10T02:23:30.914570500Z",
     "start_time": "2023-05-10T02:23:30.912220Z"
    }
   },
   "outputs": [],
   "source": [
    "# 定義模型\n",
    "class Net(nn.Module):\n",
    "    def __init__(self):\n",
    "        super(Net, self).__init__()\n",
    "        self.layer1 = nn.Sequential(  # <-- (1,32,32)\n",
    "            nn.Conv2d(1, 16, kernel_size=3, padding=1), #--> (32,32,32)\n",
    "            nn.BatchNorm2d(16),\n",
    "            nn.ReLU(),\n",
    "            nn.MaxPool2d(kernel_size=2, stride=2)) #--> (16,16,16)\n",
    "        self.layer2 = nn.Sequential(\n",
    "            nn.Conv2d(16, 32, kernel_size=3, padding=1),#--> (32,16,16)\n",
    "            nn.BatchNorm2d(32),\n",
    "            nn.ReLU(),\n",
    "            nn.MaxPool2d(kernel_size=2, stride=2)) #--> (32,8,8)\n",
    "        self.layer3 = nn.Sequential(\n",
    "            nn.Conv2d(32, 64, kernel_size=3, padding=1),#--> (64,8,8)\n",
    "            nn.BatchNorm2d(64),\n",
    "            nn.ReLU(),\n",
    "            nn.MaxPool2d(kernel_size=2, stride=2))#--> (64,4,4)\n",
    "        self.fc1 = nn.Sequential(\n",
    "            nn.Linear(4*4*64, 256), #--> (256)\n",
    "            nn.Dropout(0.2),\n",
    "            nn.Sigmoid(),\n",
    "        )\n",
    "        self.fc2 = nn.Linear(256,num_classes)\n",
    "\n",
    "    def forward(self, x):\n",
    "        out = self.layer1(x)\n",
    "        out = self.layer2(out)\n",
    "        out = self.layer3(out)\n",
    "        out = out.view(out.size(0), -1)\n",
    "        out = self.fc1(out)\n",
    "        out = self.fc2(out)\n",
    "        return out\n"
   ]
  },
  {
   "cell_type": "code",
   "execution_count": 126,
   "metadata": {
    "ExecuteTime": {
     "end_time": "2023-05-10T02:23:30.920453Z",
     "start_time": "2023-05-10T02:23:30.918081300Z"
    }
   },
   "outputs": [],
   "source": [
    "# 定義模型\n",
    "class Net(nn.Module):\n",
    "    def __init__(self):\n",
    "        super(Net, self).__init__()\n",
    "\n",
    "        self.fc1 = nn.Sequential(\n",
    "            nn.Linear(32*32, 1024),\n",
    "            nn.BatchNorm1d(1024),\n",
    "            nn.LeakyReLU(0.2, inplace=True)\n",
    "        )\n",
    "        self.fc2 = nn.Sequential(\n",
    "            nn.Linear(1024, 512),\n",
    "            nn.BatchNorm1d(512),\n",
    "            nn.LeakyReLU(0.2, inplace=True)\n",
    "        )\n",
    "        self.fc3 = nn.Sequential(\n",
    "            nn.Linear(512, 256),\n",
    "            nn.BatchNorm1d(256),\n",
    "            nn.LeakyReLU(0.2, inplace=True)\n",
    "        )\n",
    "        self.fc4 = nn.Sequential(\n",
    "            nn.Linear(256, 128),\n",
    "            nn.BatchNorm1d(128),\n",
    "            nn.LeakyReLU(0.2, inplace=True)\n",
    "        )\n",
    "        self.fc5 = nn.Linear(128, num_classes)\n",
    "\n",
    "    def forward(self, x):\n",
    "        out = x.view(x.size(0), -1)\n",
    "        out = self.fc1(out)\n",
    "        out = self.fc2(out)\n",
    "        out = self.fc3(out)\n",
    "        out = self.fc4(out)\n",
    "        out = self.fc5(out)\n",
    "        return out\n"
   ]
  },
  {
   "cell_type": "code",
   "execution_count": 127,
   "metadata": {
    "ExecuteTime": {
     "end_time": "2023-05-10T02:23:30.942101200Z",
     "start_time": "2023-05-10T02:23:30.922453700Z"
    }
   },
   "outputs": [
    {
     "name": "stdout",
     "output_type": "stream",
     "text": [
      "----------------------------------------------------------------\n",
      "        Layer (type)               Output Shape         Param #\n",
      "================================================================\n",
      "            Linear-1                 [-1, 1024]       1,049,600\n",
      "       BatchNorm1d-2                 [-1, 1024]           2,048\n",
      "         LeakyReLU-3                 [-1, 1024]               0\n",
      "            Linear-4                  [-1, 512]         524,800\n",
      "       BatchNorm1d-5                  [-1, 512]           1,024\n",
      "         LeakyReLU-6                  [-1, 512]               0\n",
      "            Linear-7                  [-1, 256]         131,328\n",
      "       BatchNorm1d-8                  [-1, 256]             512\n",
      "         LeakyReLU-9                  [-1, 256]               0\n",
      "           Linear-10                  [-1, 128]          32,896\n",
      "      BatchNorm1d-11                  [-1, 128]             256\n",
      "        LeakyReLU-12                  [-1, 128]               0\n",
      "           Linear-13                   [-1, 50]           6,450\n",
      "================================================================\n",
      "Total params: 1,748,914\n",
      "Trainable params: 1,748,914\n",
      "Non-trainable params: 0\n",
      "----------------------------------------------------------------\n",
      "Input size (MB): 0.00\n",
      "Forward/backward pass size (MB): 0.04\n",
      "Params size (MB): 6.67\n",
      "Estimated Total Size (MB): 6.72\n",
      "----------------------------------------------------------------\n"
     ]
    }
   ],
   "source": [
    "# 實例化模型、損失函數和優化器\n",
    "model = Net().to(device)\n",
    "criterion = nn.CrossEntropyLoss().to(device)\n",
    "optimizer = optim.Adam(model.parameters(), lr=learning_rate)\n",
    "\n",
    "#可視化模型\n",
    "from torchsummary import summary\n",
    "summary(model, input_size=(1, 32, 32), device=device.type)"
   ]
  },
  {
   "cell_type": "code",
   "execution_count": 128,
   "metadata": {
    "ExecuteTime": {
     "end_time": "2023-05-10T02:23:35.958970900Z",
     "start_time": "2023-05-10T02:23:30.945607300Z"
    }
   },
   "outputs": [
    {
     "name": "stdout",
     "output_type": "stream",
     "text": [
      "Epoch [1/20],                     Step [10/80],                     Loss: 3.2923\n",
      "Epoch [1/20],                     Step [20/80],                     Loss: 3.1827\n",
      "Epoch [1/20],                     Step [30/80],                     Loss: 2.7927\n",
      "Epoch [1/20],                     Step [40/80],                     Loss: 2.3258\n",
      "Epoch [1/20],                     Step [50/80],                     Loss: 2.8292\n",
      "Epoch [1/20],                     Step [60/80],                     Loss: 2.3686\n",
      "Epoch [1/20],                     Step [70/80],                     Loss: 2.1201\n",
      "Epoch [1/20],                     Step [80/80],                     Loss: 1.7887\n",
      "Epoch [2/20],                     Step [10/80],                     Loss: 1.6265\n",
      "Epoch [2/20],                     Step [20/80],                     Loss: 1.2434\n",
      "Epoch [2/20],                     Step [30/80],                     Loss: 1.5763\n",
      "Epoch [2/20],                     Step [40/80],                     Loss: 1.1689\n",
      "Epoch [2/20],                     Step [50/80],                     Loss: 1.1837\n",
      "Epoch [2/20],                     Step [60/80],                     Loss: 0.6921\n",
      "Epoch [2/20],                     Step [70/80],                     Loss: 1.5626\n",
      "Epoch [2/20],                     Step [80/80],                     Loss: 1.1516\n",
      "Epoch [3/20],                     Step [10/80],                     Loss: 0.6503\n",
      "Epoch [3/20],                     Step [20/80],                     Loss: 0.9774\n",
      "Epoch [3/20],                     Step [30/80],                     Loss: 1.2439\n",
      "Epoch [3/20],                     Step [40/80],                     Loss: 0.9417\n",
      "Epoch [3/20],                     Step [50/80],                     Loss: 0.5991\n",
      "Epoch [3/20],                     Step [60/80],                     Loss: 0.8233\n",
      "Epoch [3/20],                     Step [70/80],                     Loss: 0.5287\n",
      "Epoch [3/20],                     Step [80/80],                     Loss: 0.6632\n",
      "Epoch [4/20],                     Step [10/80],                     Loss: 0.4588\n",
      "Epoch [4/20],                     Step [20/80],                     Loss: 0.2336\n",
      "Epoch [4/20],                     Step [30/80],                     Loss: 0.2759\n",
      "Epoch [4/20],                     Step [40/80],                     Loss: 0.3149\n",
      "Epoch [4/20],                     Step [50/80],                     Loss: 0.3177\n",
      "Epoch [4/20],                     Step [60/80],                     Loss: 0.5229\n",
      "Epoch [4/20],                     Step [70/80],                     Loss: 0.6258\n",
      "Epoch [4/20],                     Step [80/80],                     Loss: 0.2838\n",
      "Epoch [5/20],                     Step [10/80],                     Loss: 0.3618\n",
      "Epoch [5/20],                     Step [20/80],                     Loss: 0.2142\n",
      "Epoch [5/20],                     Step [30/80],                     Loss: 0.1493\n",
      "Epoch [5/20],                     Step [40/80],                     Loss: 0.2361\n",
      "Epoch [5/20],                     Step [50/80],                     Loss: 0.2925\n",
      "Epoch [5/20],                     Step [60/80],                     Loss: 0.2728\n",
      "Epoch [5/20],                     Step [70/80],                     Loss: 0.1943\n",
      "Epoch [5/20],                     Step [80/80],                     Loss: 0.1115\n",
      "Epoch [6/20],                     Step [10/80],                     Loss: 0.1480\n",
      "Epoch [6/20],                     Step [20/80],                     Loss: 0.1953\n",
      "Epoch [6/20],                     Step [30/80],                     Loss: 0.2760\n",
      "Epoch [6/20],                     Step [40/80],                     Loss: 0.1151\n",
      "Epoch [6/20],                     Step [50/80],                     Loss: 0.2393\n",
      "Epoch [6/20],                     Step [60/80],                     Loss: 0.2106\n",
      "Epoch [6/20],                     Step [70/80],                     Loss: 0.1072\n",
      "Epoch [6/20],                     Step [80/80],                     Loss: 0.3418\n",
      "Epoch [7/20],                     Step [10/80],                     Loss: 0.3167\n",
      "Epoch [7/20],                     Step [20/80],                     Loss: 0.2132\n",
      "Epoch [7/20],                     Step [30/80],                     Loss: 0.1664\n",
      "Epoch [7/20],                     Step [40/80],                     Loss: 0.2129\n",
      "Epoch [7/20],                     Step [50/80],                     Loss: 0.1954\n",
      "Epoch [7/20],                     Step [60/80],                     Loss: 0.0831\n",
      "Epoch [7/20],                     Step [70/80],                     Loss: 0.1982\n",
      "Epoch [7/20],                     Step [80/80],                     Loss: 0.1816\n",
      "Epoch [8/20],                     Step [10/80],                     Loss: 0.1310\n",
      "Epoch [8/20],                     Step [20/80],                     Loss: 0.1045\n",
      "Epoch [8/20],                     Step [30/80],                     Loss: 0.1979\n",
      "Epoch [8/20],                     Step [40/80],                     Loss: 0.0540\n",
      "Epoch [8/20],                     Step [50/80],                     Loss: 0.0290\n",
      "Epoch [8/20],                     Step [60/80],                     Loss: 0.1275\n",
      "Epoch [8/20],                     Step [70/80],                     Loss: 0.0667\n",
      "Epoch [8/20],                     Step [80/80],                     Loss: 0.0820\n",
      "Epoch [9/20],                     Step [10/80],                     Loss: 0.1801\n",
      "Epoch [9/20],                     Step [20/80],                     Loss: 0.0596\n",
      "Epoch [9/20],                     Step [30/80],                     Loss: 0.0372\n",
      "Epoch [9/20],                     Step [40/80],                     Loss: 0.1814\n",
      "Epoch [9/20],                     Step [50/80],                     Loss: 0.0539\n",
      "Epoch [9/20],                     Step [60/80],                     Loss: 0.0863\n",
      "Epoch [9/20],                     Step [70/80],                     Loss: 0.3401\n",
      "Epoch [9/20],                     Step [80/80],                     Loss: 0.1207\n",
      "Epoch [10/20],                     Step [10/80],                     Loss: 0.1253\n",
      "Epoch [10/20],                     Step [20/80],                     Loss: 0.0976\n",
      "Epoch [10/20],                     Step [30/80],                     Loss: 0.0987\n",
      "Epoch [10/20],                     Step [40/80],                     Loss: 0.0667\n",
      "Epoch [10/20],                     Step [50/80],                     Loss: 0.0520\n",
      "Epoch [10/20],                     Step [60/80],                     Loss: 0.1536\n",
      "Epoch [10/20],                     Step [70/80],                     Loss: 0.0405\n",
      "Epoch [10/20],                     Step [80/80],                     Loss: 0.0213\n",
      "Epoch [11/20],                     Step [10/80],                     Loss: 0.0656\n",
      "Epoch [11/20],                     Step [20/80],                     Loss: 0.0479\n",
      "Epoch [11/20],                     Step [30/80],                     Loss: 0.0091\n",
      "Epoch [11/20],                     Step [40/80],                     Loss: 0.1695\n",
      "Epoch [11/20],                     Step [50/80],                     Loss: 0.0430\n",
      "Epoch [11/20],                     Step [60/80],                     Loss: 0.0189\n",
      "Epoch [11/20],                     Step [70/80],                     Loss: 0.0912\n",
      "Epoch [11/20],                     Step [80/80],                     Loss: 0.0895\n",
      "Epoch [12/20],                     Step [10/80],                     Loss: 0.0615\n",
      "Epoch [12/20],                     Step [20/80],                     Loss: 0.0266\n",
      "Epoch [12/20],                     Step [30/80],                     Loss: 0.1276\n",
      "Epoch [12/20],                     Step [40/80],                     Loss: 0.0649\n",
      "Epoch [12/20],                     Step [50/80],                     Loss: 0.0546\n",
      "Epoch [12/20],                     Step [60/80],                     Loss: 0.0457\n",
      "Epoch [12/20],                     Step [70/80],                     Loss: 0.1453\n",
      "Epoch [12/20],                     Step [80/80],                     Loss: 0.0586\n",
      "Epoch [13/20],                     Step [10/80],                     Loss: 0.0195\n",
      "Epoch [13/20],                     Step [20/80],                     Loss: 0.1355\n",
      "Epoch [13/20],                     Step [30/80],                     Loss: 0.1179\n",
      "Epoch [13/20],                     Step [40/80],                     Loss: 0.0289\n",
      "Epoch [13/20],                     Step [50/80],                     Loss: 0.0869\n",
      "Epoch [13/20],                     Step [60/80],                     Loss: 0.0336\n",
      "Epoch [13/20],                     Step [70/80],                     Loss: 0.0254\n",
      "Epoch [13/20],                     Step [80/80],                     Loss: 0.2373\n",
      "Epoch [14/20],                     Step [10/80],                     Loss: 0.0136\n",
      "Epoch [14/20],                     Step [20/80],                     Loss: 0.0810\n",
      "Epoch [14/20],                     Step [30/80],                     Loss: 0.2999\n",
      "Epoch [14/20],                     Step [40/80],                     Loss: 0.1794\n",
      "Epoch [14/20],                     Step [50/80],                     Loss: 0.0710\n",
      "Epoch [14/20],                     Step [60/80],                     Loss: 0.2231\n",
      "Epoch [14/20],                     Step [70/80],                     Loss: 0.1551\n",
      "Epoch [14/20],                     Step [80/80],                     Loss: 0.3671\n",
      "Epoch [15/20],                     Step [10/80],                     Loss: 0.3268\n",
      "Epoch [15/20],                     Step [20/80],                     Loss: 0.4757\n",
      "Epoch [15/20],                     Step [30/80],                     Loss: 0.0298\n",
      "Epoch [15/20],                     Step [40/80],                     Loss: 0.0313\n",
      "Epoch [15/20],                     Step [50/80],                     Loss: 0.2004\n",
      "Epoch [15/20],                     Step [60/80],                     Loss: 0.2477\n",
      "Epoch [15/20],                     Step [70/80],                     Loss: 0.1378\n",
      "Epoch [15/20],                     Step [80/80],                     Loss: 0.2258\n",
      "Epoch [16/20],                     Step [10/80],                     Loss: 0.0491\n",
      "Epoch [16/20],                     Step [20/80],                     Loss: 0.0731\n",
      "Epoch [16/20],                     Step [30/80],                     Loss: 0.0579\n",
      "Epoch [16/20],                     Step [40/80],                     Loss: 0.0541\n",
      "Epoch [16/20],                     Step [50/80],                     Loss: 0.2127\n",
      "Epoch [16/20],                     Step [60/80],                     Loss: 0.2750\n",
      "Epoch [16/20],                     Step [70/80],                     Loss: 0.0974\n",
      "Epoch [16/20],                     Step [80/80],                     Loss: 0.0372\n",
      "Epoch [17/20],                     Step [10/80],                     Loss: 0.3502\n",
      "Epoch [17/20],                     Step [20/80],                     Loss: 0.1289\n",
      "Epoch [17/20],                     Step [30/80],                     Loss: 0.1518\n",
      "Epoch [17/20],                     Step [40/80],                     Loss: 0.4840\n",
      "Epoch [17/20],                     Step [50/80],                     Loss: 0.0449\n",
      "Epoch [17/20],                     Step [60/80],                     Loss: 0.0228\n",
      "Epoch [17/20],                     Step [70/80],                     Loss: 0.0171\n",
      "Epoch [17/20],                     Step [80/80],                     Loss: 0.0841\n",
      "Epoch [18/20],                     Step [10/80],                     Loss: 0.0062\n",
      "Epoch [18/20],                     Step [20/80],                     Loss: 0.2778\n",
      "Epoch [18/20],                     Step [30/80],                     Loss: 0.1409\n",
      "Epoch [18/20],                     Step [40/80],                     Loss: 0.2029\n",
      "Epoch [18/20],                     Step [50/80],                     Loss: 0.0144\n",
      "Epoch [18/20],                     Step [60/80],                     Loss: 0.0372\n",
      "Epoch [18/20],                     Step [70/80],                     Loss: 0.0214\n",
      "Epoch [18/20],                     Step [80/80],                     Loss: 0.2833\n",
      "Epoch [19/20],                     Step [10/80],                     Loss: 0.0825\n",
      "Epoch [19/20],                     Step [20/80],                     Loss: 0.2994\n",
      "Epoch [19/20],                     Step [30/80],                     Loss: 0.0420\n",
      "Epoch [19/20],                     Step [40/80],                     Loss: 0.0339\n",
      "Epoch [19/20],                     Step [50/80],                     Loss: 0.0074\n",
      "Epoch [19/20],                     Step [60/80],                     Loss: 0.0331\n",
      "Epoch [19/20],                     Step [70/80],                     Loss: 0.0146\n",
      "Epoch [19/20],                     Step [80/80],                     Loss: 0.0123\n",
      "Epoch [20/20],                     Step [10/80],                     Loss: 0.0090\n",
      "Epoch [20/20],                     Step [20/80],                     Loss: 0.0240\n",
      "Epoch [20/20],                     Step [30/80],                     Loss: 0.0227\n",
      "Epoch [20/20],                     Step [40/80],                     Loss: 0.0147\n",
      "Epoch [20/20],                     Step [50/80],                     Loss: 0.0467\n",
      "Epoch [20/20],                     Step [60/80],                     Loss: 0.0487\n",
      "Epoch [20/20],                     Step [70/80],                     Loss: 0.0295\n",
      "Epoch [20/20],                     Step [80/80],                     Loss: 0.1619\n"
     ]
    }
   ],
   "source": [
    "# 訓練模型\n",
    "total_step = len(train_loader)  #  1 epoch = 800/batch = 40\n",
    "loss_list =[]\n",
    "for epoch in range(num_epochs):\n",
    "    loss = 0\n",
    "    for i, (images, labels) in enumerate(train_loader):\n",
    "\n",
    "        images = images.to(device)\n",
    "        labels = labels.to(device)\n",
    "\n",
    "        # 前向傳播\n",
    "        outputs = model(images)\n",
    "        loss = criterion(outputs, labels)\n",
    "\n",
    "        # 反向傳播和優化\n",
    "        optimizer.zero_grad()\n",
    "        loss.backward()\n",
    "        optimizer.step()\n",
    "\n",
    "        if (i+1) % 10 == 0:\n",
    "            print(f'Epoch [{epoch+1}/{num_epochs}], \\\n",
    "                    Step [{i+1}/{total_step}], \\\n",
    "                    Loss: {loss.item():.4f}')\n",
    "    loss_list.append(loss.item())\n",
    "\n"
   ]
  },
  {
   "cell_type": "code",
   "execution_count": 129,
   "metadata": {
    "ExecuteTime": {
     "end_time": "2023-05-10T02:23:36.108660500Z",
     "start_time": "2023-05-10T02:23:35.985712300Z"
    }
   },
   "outputs": [
    {
     "data": {
      "image/png": "[encoded data removed]",
      "text/plain": [
       "<Figure size 640x480 with 1 Axes>"
      ]
     },
     "metadata": {},
     "output_type": "display_data"
    },
    {
     "name": "stdout",
     "output_type": "stream",
     "text": [
      "Accuracy of the model on the test images: 90.5 %\n",
      "total:200 ,\tcorrect:181\n"
     ]
    }
   ],
   "source": [
    "# 測試模型\n",
    "\n",
    "label_dict = train_dataset.class_to_idx\n",
    "reverse_label_dict = {v: k for k, v in label_dict.items()}\n",
    "\n",
    "# 導入 Matplotlib 庫\n",
    "from matplotlib import pyplot as plt\n",
    "\n",
    "# 繪製訓練過程中的損失(loss)值變化圖\n",
    "plt.plot(loss_list)\n",
    "plt.title('Train Loss')\n",
    "plt.show()\n",
    "\n",
    "# 設置模型為評估模式\n",
    "model.eval()\n",
    "\n",
    "# 在不計算梯度的情況下測試模型\n",
    "with torch.no_grad():\n",
    "    # 初始化準確率計數器\n",
    "    correct = 0\n",
    "    total = 0\n",
    "    error = []\n",
    "    # 循環處理測試集中的每一個樣本\n",
    "    for images, labels in test_loader:\n",
    "        # 將樣本數據和標籤移到 GPU 上進行計算\n",
    "        images = images.to(device)\n",
    "        labels = labels.to(device)\n",
    "        # 通過神經網絡進行預測\n",
    "        outputs = model(images)\n",
    "        # 找到每個樣本的最大值及其對應的索引，即預測類別\n",
    "        _, predicted = torch.max(outputs.data, 1)\n",
    "        # 統計正確預測的數量\n",
    "        total += labels.size(0)\n",
    "        correct += (predicted == labels).sum().item()\n",
    "        # 判斷預測值和實際標籤是否一致，如果不一致就把它們添加到錯誤列表中\n",
    "\n",
    "    # 計算並輸出準確率\n",
    "    print('Accuracy of the model on the test images: {} %'.format(100 * correct / total))\n",
    "    print(f'total:{total} ,\\tcorrect:{correct}')\n",
    "\n",
    "\n"
   ]
  },
  {
   "cell_type": "markdown",
   "metadata": {},
   "source": [
    "# 儲存模型"
   ]
  },
  {
   "cell_type": "code",
   "execution_count": 130,
   "metadata": {
    "ExecuteTime": {
     "end_time": "2023-05-10T02:23:36.162243500Z",
     "start_time": "2023-05-10T02:23:36.110660500Z"
    }
   },
   "outputs": [],
   "source": [
    "# 只儲存權重\n",
    "torch.save(model.state_dict(), '50on_model.ckpt')\n",
    "# 儲存整個模型和權重\n",
    "torch.save(model, '50on_model_all.pt')\n",
    "\n"
   ]
  },
  {
   "cell_type": "markdown",
   "metadata": {},
   "source": [
    "# 載入模型"
   ]
  },
  {
   "cell_type": "code",
   "execution_count": 134,
   "metadata": {
    "ExecuteTime": {
     "end_time": "2023-05-10T02:25:00.815096700Z",
     "start_time": "2023-05-10T02:25:00.782708200Z"
    }
   },
   "outputs": [
    {
     "data": {
      "image/png": "[encoded data removed]",
      "text/plain": [
       "<PIL.JpegImagePlugin.JpegImageFile image mode=RGB size=83x84>"
      ]
     },
     "metadata": {},
     "output_type": "display_data"
    },
    {
     "name": "stdout",
     "output_type": "stream",
     "text": [
      "預測結果:kanaHE\n"
     ]
    }
   ],
   "source": [
    "import torch\n",
    "from torchvision import transforms\n",
    "import torchvision.models as models\n",
    "from PIL import Image\n",
    "\n",
    "# 定義圖片轉換\n",
    "test_transform = transforms.Compose([\n",
    "    transforms.Resize((32, 32)),  # 調整大小為 32x32\n",
    "    transforms.Grayscale(num_output_channels=1),  # 轉為單通道灰度圖像\n",
    "    transforms.ToTensor()  # 轉為張量\n",
    "\n",
    "])\n",
    "# 載入圖片\n",
    "img = Image.open('./test_images/HE.jpg')\n",
    "display(img)\n",
    "img = test_transform(img).to(device)\n",
    "# 增加一維，batch大小設為 1\n",
    "img = img.unsqueeze(0)\n",
    "\n",
    "\n",
    "# 載入模型\n",
    "model = torch.load('50on_model_all.pt')\n",
    "# 設置模型為評估模式\n",
    "model.eval().to(device)\n",
    "\n",
    "\n",
    "# 使用模型進行預測\n",
    "with torch.no_grad():\n",
    "    output = model(img)\n",
    "\n",
    "# 取得預測結果\n",
    "_, preds = torch.max(output, 1)\n",
    "label_dict = train_dataset.class_to_idx\n",
    "reverse_label_dict = {v: k for k, v in label_dict.items()}\n",
    "print(f'預測結果:{reverse_label_dict[preds.item()]}')"
   ]
  },
  {
   "cell_type": "code",
   "execution_count": null,
   "metadata": {
    "ExecuteTime": {
     "start_time": "2023-05-10T02:23:36.162243500Z"
    }
   },
   "outputs": [],
   "source": []
  }
 ],
 "metadata": {
  "kernelspec": {
   "display_name": "Python 3 (ipykernel)",
   "language": "python",
   "name": "python3"
  },
  "language_info": {
   "codemirror_mode": {
    "name": "ipython",
    "version": 3
   },
   "file_extension": ".py",
   "mimetype": "text/x-python",
   "name": "python",
   "nbconvert_exporter": "python",
   "pygments_lexer": "ipython3",
   "version": "3.11.3"
  }
 },
 "nbformat": 4,
 "nbformat_minor": 1
}
