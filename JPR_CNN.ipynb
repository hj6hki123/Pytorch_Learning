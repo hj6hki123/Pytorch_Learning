{
 "cells": [
  {
   "cell_type": "markdown",
   "metadata": {},
   "source": [
    "# 圖片分類"
   ]
  },
  {
   "cell_type": "code",
   "execution_count": 2,
   "metadata": {
    "ExecuteTime": {
     "end_time": "2023-05-23T10:55:22.304105100Z",
     "start_time": "2023-05-23T10:55:20.880775900Z"
    }
   },
   "outputs": [],
   "source": [
    "import shutil\n",
    "from pathlib import Path\n",
    "\n",
    "source_dir = './dataset/hiragana_images'\n",
    "train_dir = './dataset/train_images'\n",
    "Path(train_dir).mkdir(parents=True, exist_ok=True)\n",
    "\n",
    "for file_path in Path(source_dir).glob('*.jpg'):\n",
    "    class_name = ''.join(filter(lambda x: not x.isdigit(), file_path.stem))\n",
    "    target_folder = Path(train_dir) / class_name\n",
    "    target_folder.mkdir(parents=True, exist_ok=True)\n",
    "    shutil.copy(file_path, target_folder / file_path.name)\n",
    "\n"
   ]
  },
  {
   "cell_type": "markdown",
   "metadata": {},
   "source": [
    "# 模型訓練"
   ]
  },
  {
   "cell_type": "code",
   "execution_count": 3,
   "metadata": {
    "ExecuteTime": {
     "end_time": "2023-05-23T10:55:36.098887500Z",
     "start_time": "2023-05-23T10:55:22.306099300Z"
    }
   },
   "outputs": [],
   "source": [
    "import torch\n",
    "import torch.nn as nn\n",
    "import torch.optim as optim\n",
    "import torchvision.datasets as datasets\n",
    "import torchvision.transforms as transforms\n",
    "from torch.utils.data import Dataset, DataLoader\n",
    "from sklearn.model_selection import train_test_split"
   ]
  },
  {
   "cell_type": "code",
   "execution_count": 4,
   "metadata": {
    "ExecuteTime": {
     "end_time": "2023-05-23T10:55:36.196805800Z",
     "start_time": "2023-05-23T10:55:36.101882Z"
    }
   },
   "outputs": [
    {
     "data": {
      "text/plain": "device(type='cuda')"
     },
     "execution_count": 4,
     "metadata": {},
     "output_type": "execute_result"
    }
   ],
   "source": [
    "# 檢查是否有 GPU\n",
    "device = torch.device(\"cuda\" if torch.cuda.is_available() else \"cpu\")\n",
    "device"
   ]
  },
  {
   "cell_type": "code",
   "execution_count": 5,
   "metadata": {
    "ExecuteTime": {
     "end_time": "2023-05-23T10:55:36.199801Z",
     "start_time": "2023-05-23T10:55:36.196805800Z"
    }
   },
   "outputs": [],
   "source": [
    "# 超參數\n",
    "num_classes = 50  # 50音分類\n",
    "batch_size = 10  #訓練樣本數\n",
    "num_epochs = 20  #一期訓練  Iteration = （Data set size / Batch size）* Epoch = (1000/20)*10 = 5000\n",
    "learning_rate = 0.001 #學習率"
   ]
  },
  {
   "cell_type": "code",
   "execution_count": 6,
   "metadata": {
    "ExecuteTime": {
     "end_time": "2023-05-23T10:55:36.202025Z",
     "start_time": "2023-05-23T10:55:36.199801Z"
    }
   },
   "outputs": [],
   "source": [
    "# 數據預處理\n",
    "transform = transforms.Compose([\n",
    "    transforms.Resize((32, 32)),  # 調整大小為 32x32\n",
    "    transforms.Grayscale(num_output_channels=1),  # 轉為單通道灰度圖像\n",
    "    transforms.ToTensor(),  # 轉為張量\n",
    "    transforms.Normalize((0.5,), (0.5,))  # 正歸化 平均值設置為 0.5，標準差設置為 0.5 轉換為範圍 [-1, 1] output = (input - 127.5) / 127.5\n",
    "])"
   ]
  },
  {
   "cell_type": "code",
   "execution_count": 7,
   "metadata": {
    "ExecuteTime": {
     "end_time": "2023-05-23T10:55:37.317766100Z",
     "start_time": "2023-05-23T10:55:36.203020900Z"
    }
   },
   "outputs": [],
   "source": [
    "# 載入數據 並將數據分配測試集和訓練集 8:2\n",
    "train_dataset = datasets.ImageFolder(root='./dataset/train_images', transform=transform) # datasets.ImageFolder 會將資料夾中的圖片依照資料夾名稱分類\n",
    "train_data, test_data = train_test_split(train_dataset, test_size=0.2, random_state=42) #train_test_split 會將資料分成兩部分，一部分用來訓練，一部分用來測試\n",
    "#訓練集\n",
    "train_loader = DataLoader(train_data, batch_size=batch_size, shuffle=True)  #每次訓練數量 = Data set size(*0.8) / Batch size = 800/20 = 40\n",
    "#測試集\n",
    "test_loader = DataLoader(test_data, batch_size=batch_size, shuffle=False)\n",
    "\n",
    "# # 載入數據\n",
    "# train_dataset = datasets.ImageFolder(root='F:\\pycharm_pro\\pytorch_learn\\my_images', transform=transform)\n",
    "# train_loader = DataLoader(train_dataset, batch_size=batch_size, shuffle=True)\n"
   ]
  },
  {
   "cell_type": "markdown",
   "metadata": {},
   "source": [
    "卷積層尺寸變化 =\n",
    "$$\n",
    "W_{new} = {W_{o} - Kernelsize + (2 \\times Padding) \\over Stride} +1\n",
    "$$"
   ]
  },
  {
   "cell_type": "code",
   "execution_count": 8,
   "metadata": {
    "ExecuteTime": {
     "end_time": "2023-05-23T10:55:37.323886200Z",
     "start_time": "2023-05-23T10:55:37.322887Z"
    }
   },
   "outputs": [],
   "source": [
    "# 定義模型\n",
    "class Net(nn.Module):\n",
    "    def __init__(self):\n",
    "        super(Net, self).__init__()\n",
    "        self.layer1 = nn.Sequential(  # <-- (1,32,32)\n",
    "            nn.Conv2d(1, 16, kernel_size=3, padding=1), #--> (16,32,32)\n",
    "            nn.BatchNorm2d(16),\n",
    "            nn.ReLU(),\n",
    "            nn.MaxPool2d(kernel_size=2, stride=2)) #--> (16,16,16)\n",
    "        self.layer2 = nn.Sequential(\n",
    "            nn.Conv2d(16, 32, kernel_size=3, padding=1),#--> (32,16,16)\n",
    "            nn.BatchNorm2d(32),\n",
    "            nn.ReLU(),\n",
    "            nn.MaxPool2d(kernel_size=2, stride=2)) #--> (32,8,8)\n",
    "        self.layer3 = nn.Sequential(\n",
    "            nn.Conv2d(32, 64, kernel_size=3, padding=1),#--> (64,8,8)\n",
    "            nn.BatchNorm2d(64),\n",
    "            nn.ReLU(),\n",
    "            nn.MaxPool2d(kernel_size=2, stride=2))#--> (64,4,4)\n",
    "        self.fc1 = nn.Sequential(\n",
    "            nn.Linear(4*4*64, 256), #--> (256)\n",
    "            nn.Dropout(0.2),\n",
    "            nn.Sigmoid(),\n",
    "        )\n",
    "        self.fc2 = nn.Linear(256,num_classes)\n",
    "\n",
    "    def forward(self, x):\n",
    "        out = self.layer1(x)\n",
    "        out = self.layer2(out)\n",
    "        out = self.layer3(out)\n",
    "        out = out.view(out.size(0), -1)\n",
    "        out = self.fc1(out)\n",
    "        out = self.fc2(out)\n",
    "        return out\n"
   ]
  },
  {
   "cell_type": "code",
   "execution_count": 9,
   "metadata": {
    "ExecuteTime": {
     "end_time": "2023-05-23T10:55:46.811318400Z",
     "start_time": "2023-05-23T10:55:37.324884Z"
    }
   },
   "outputs": [
    {
     "name": "stdout",
     "output_type": "stream",
     "text": [
      "----------------------------------------------------------------\n",
      "        Layer (type)               Output Shape         Param #\n",
      "================================================================\n",
      "            Conv2d-1           [-1, 16, 32, 32]             160\n",
      "       BatchNorm2d-2           [-1, 16, 32, 32]              32\n",
      "              ReLU-3           [-1, 16, 32, 32]               0\n",
      "         MaxPool2d-4           [-1, 16, 16, 16]               0\n",
      "            Conv2d-5           [-1, 32, 16, 16]           4,640\n",
      "       BatchNorm2d-6           [-1, 32, 16, 16]              64\n",
      "              ReLU-7           [-1, 32, 16, 16]               0\n",
      "         MaxPool2d-8             [-1, 32, 8, 8]               0\n",
      "            Conv2d-9             [-1, 64, 8, 8]          18,496\n",
      "      BatchNorm2d-10             [-1, 64, 8, 8]             128\n",
      "             ReLU-11             [-1, 64, 8, 8]               0\n",
      "        MaxPool2d-12             [-1, 64, 4, 4]               0\n",
      "           Linear-13                  [-1, 256]         262,400\n",
      "          Dropout-14                  [-1, 256]               0\n",
      "          Sigmoid-15                  [-1, 256]               0\n",
      "           Linear-16                   [-1, 50]          12,850\n",
      "================================================================\n",
      "Total params: 298,770\n",
      "Trainable params: 298,770\n",
      "Non-trainable params: 0\n",
      "----------------------------------------------------------------\n",
      "Input size (MB): 0.00\n",
      "Forward/backward pass size (MB): 0.72\n",
      "Params size (MB): 1.14\n",
      "Estimated Total Size (MB): 1.86\n",
      "----------------------------------------------------------------\n"
     ]
    }
   ],
   "source": [
    "# 實例化模型、損失函數和優化器\n",
    "model = Net().to(device)\n",
    "criterion = nn.CrossEntropyLoss().to(device)\n",
    "optimizer = optim.Adam(model.parameters(), lr=learning_rate)\n",
    "\n",
    "#可視化模型\n",
    "from torchsummary import summary\n",
    "summary(model, input_size=(1, 32, 32), device=device.type)"
   ]
  },
  {
   "cell_type": "code",
   "execution_count": 10,
   "metadata": {
    "ExecuteTime": {
     "end_time": "2023-05-23T10:55:52.183259400Z",
     "start_time": "2023-05-23T10:55:46.812316500Z"
    }
   },
   "outputs": [
    {
     "name": "stdout",
     "output_type": "stream",
     "text": [
      "Epoch [1/20],                     Step [10/80],                     Loss: 4.2520\n",
      "Epoch [1/20],                     Step [20/80],                     Loss: 4.0217\n",
      "Epoch [1/20],                     Step [30/80],                     Loss: 3.7673\n",
      "Epoch [1/20],                     Step [40/80],                     Loss: 3.8657\n",
      "Epoch [1/20],                     Step [50/80],                     Loss: 3.6117\n",
      "Epoch [1/20],                     Step [60/80],                     Loss: 3.7542\n",
      "Epoch [1/20],                     Step [70/80],                     Loss: 3.3107\n",
      "Epoch [1/20],                     Step [80/80],                     Loss: 3.2161\n",
      "Epoch [2/20],                     Step [10/80],                     Loss: 2.9142\n",
      "Epoch [2/20],                     Step [20/80],                     Loss: 2.7351\n",
      "Epoch [2/20],                     Step [30/80],                     Loss: 2.7726\n",
      "Epoch [2/20],                     Step [40/80],                     Loss: 2.5469\n",
      "Epoch [2/20],                     Step [50/80],                     Loss: 2.6420\n",
      "Epoch [2/20],                     Step [60/80],                     Loss: 2.3814\n",
      "Epoch [2/20],                     Step [70/80],                     Loss: 1.8484\n",
      "Epoch [2/20],                     Step [80/80],                     Loss: 1.9966\n",
      "Epoch [3/20],                     Step [10/80],                     Loss: 1.8749\n",
      "Epoch [3/20],                     Step [20/80],                     Loss: 1.7102\n",
      "Epoch [3/20],                     Step [30/80],                     Loss: 1.8369\n",
      "Epoch [3/20],                     Step [40/80],                     Loss: 1.6885\n",
      "Epoch [3/20],                     Step [50/80],                     Loss: 1.3341\n",
      "Epoch [3/20],                     Step [60/80],                     Loss: 1.3679\n",
      "Epoch [3/20],                     Step [70/80],                     Loss: 1.1482\n",
      "Epoch [3/20],                     Step [80/80],                     Loss: 1.2358\n",
      "Epoch [4/20],                     Step [10/80],                     Loss: 0.7520\n",
      "Epoch [4/20],                     Step [20/80],                     Loss: 1.0478\n",
      "Epoch [4/20],                     Step [30/80],                     Loss: 0.9589\n",
      "Epoch [4/20],                     Step [40/80],                     Loss: 0.5558\n",
      "Epoch [4/20],                     Step [50/80],                     Loss: 0.6776\n",
      "Epoch [4/20],                     Step [60/80],                     Loss: 0.6979\n",
      "Epoch [4/20],                     Step [70/80],                     Loss: 0.5776\n",
      "Epoch [4/20],                     Step [80/80],                     Loss: 0.7002\n",
      "Epoch [5/20],                     Step [10/80],                     Loss: 0.3889\n",
      "Epoch [5/20],                     Step [20/80],                     Loss: 0.4045\n",
      "Epoch [5/20],                     Step [30/80],                     Loss: 0.5459\n",
      "Epoch [5/20],                     Step [40/80],                     Loss: 0.3190\n",
      "Epoch [5/20],                     Step [50/80],                     Loss: 0.3065\n",
      "Epoch [5/20],                     Step [60/80],                     Loss: 0.3113\n",
      "Epoch [5/20],                     Step [70/80],                     Loss: 0.4530\n",
      "Epoch [5/20],                     Step [80/80],                     Loss: 0.4158\n",
      "Epoch [6/20],                     Step [10/80],                     Loss: 0.3463\n",
      "Epoch [6/20],                     Step [20/80],                     Loss: 0.2679\n",
      "Epoch [6/20],                     Step [30/80],                     Loss: 0.2864\n",
      "Epoch [6/20],                     Step [40/80],                     Loss: 0.2815\n",
      "Epoch [6/20],                     Step [50/80],                     Loss: 0.1602\n",
      "Epoch [6/20],                     Step [60/80],                     Loss: 0.2192\n",
      "Epoch [6/20],                     Step [70/80],                     Loss: 0.1674\n",
      "Epoch [6/20],                     Step [80/80],                     Loss: 0.1319\n",
      "Epoch [7/20],                     Step [10/80],                     Loss: 0.1602\n",
      "Epoch [7/20],                     Step [20/80],                     Loss: 0.1415\n",
      "Epoch [7/20],                     Step [30/80],                     Loss: 0.1218\n",
      "Epoch [7/20],                     Step [40/80],                     Loss: 0.1596\n",
      "Epoch [7/20],                     Step [50/80],                     Loss: 0.1753\n",
      "Epoch [7/20],                     Step [60/80],                     Loss: 0.1731\n",
      "Epoch [7/20],                     Step [70/80],                     Loss: 0.1750\n",
      "Epoch [7/20],                     Step [80/80],                     Loss: 0.1778\n",
      "Epoch [8/20],                     Step [10/80],                     Loss: 0.1363\n",
      "Epoch [8/20],                     Step [20/80],                     Loss: 0.0980\n",
      "Epoch [8/20],                     Step [30/80],                     Loss: 0.1116\n",
      "Epoch [8/20],                     Step [40/80],                     Loss: 0.1053\n",
      "Epoch [8/20],                     Step [50/80],                     Loss: 0.1001\n",
      "Epoch [8/20],                     Step [60/80],                     Loss: 0.0915\n",
      "Epoch [8/20],                     Step [70/80],                     Loss: 0.0824\n",
      "Epoch [8/20],                     Step [80/80],                     Loss: 0.1096\n",
      "Epoch [9/20],                     Step [10/80],                     Loss: 0.1080\n",
      "Epoch [9/20],                     Step [20/80],                     Loss: 0.0790\n",
      "Epoch [9/20],                     Step [30/80],                     Loss: 0.0883\n",
      "Epoch [9/20],                     Step [40/80],                     Loss: 0.0640\n",
      "Epoch [9/20],                     Step [50/80],                     Loss: 0.0818\n",
      "Epoch [9/20],                     Step [60/80],                     Loss: 0.0667\n",
      "Epoch [9/20],                     Step [70/80],                     Loss: 0.0639\n",
      "Epoch [9/20],                     Step [80/80],                     Loss: 0.0661\n",
      "Epoch [10/20],                     Step [10/80],                     Loss: 0.0665\n",
      "Epoch [10/20],                     Step [20/80],                     Loss: 0.0558\n",
      "Epoch [10/20],                     Step [30/80],                     Loss: 0.0574\n",
      "Epoch [10/20],                     Step [40/80],                     Loss: 0.0617\n",
      "Epoch [10/20],                     Step [50/80],                     Loss: 0.0718\n",
      "Epoch [10/20],                     Step [60/80],                     Loss: 0.0569\n",
      "Epoch [10/20],                     Step [70/80],                     Loss: 0.0872\n",
      "Epoch [10/20],                     Step [80/80],                     Loss: 0.0552\n",
      "Epoch [11/20],                     Step [10/80],                     Loss: 0.0365\n",
      "Epoch [11/20],                     Step [20/80],                     Loss: 0.0375\n",
      "Epoch [11/20],                     Step [30/80],                     Loss: 0.0548\n",
      "Epoch [11/20],                     Step [40/80],                     Loss: 0.0468\n",
      "Epoch [11/20],                     Step [50/80],                     Loss: 0.0436\n",
      "Epoch [11/20],                     Step [60/80],                     Loss: 0.0412\n",
      "Epoch [11/20],                     Step [70/80],                     Loss: 0.0518\n",
      "Epoch [11/20],                     Step [80/80],                     Loss: 0.0419\n",
      "Epoch [12/20],                     Step [10/80],                     Loss: 0.0350\n",
      "Epoch [12/20],                     Step [20/80],                     Loss: 0.0356\n",
      "Epoch [12/20],                     Step [30/80],                     Loss: 0.0504\n",
      "Epoch [12/20],                     Step [40/80],                     Loss: 0.0440\n",
      "Epoch [12/20],                     Step [50/80],                     Loss: 0.0401\n",
      "Epoch [12/20],                     Step [60/80],                     Loss: 0.0285\n",
      "Epoch [12/20],                     Step [70/80],                     Loss: 0.0316\n",
      "Epoch [12/20],                     Step [80/80],                     Loss: 0.0408\n",
      "Epoch [13/20],                     Step [10/80],                     Loss: 0.0298\n",
      "Epoch [13/20],                     Step [20/80],                     Loss: 0.0359\n",
      "Epoch [13/20],                     Step [30/80],                     Loss: 0.0271\n",
      "Epoch [13/20],                     Step [40/80],                     Loss: 0.0285\n",
      "Epoch [13/20],                     Step [50/80],                     Loss: 0.0296\n",
      "Epoch [13/20],                     Step [60/80],                     Loss: 0.0379\n",
      "Epoch [13/20],                     Step [70/80],                     Loss: 0.0277\n",
      "Epoch [13/20],                     Step [80/80],                     Loss: 0.0406\n",
      "Epoch [14/20],                     Step [10/80],                     Loss: 0.0313\n",
      "Epoch [14/20],                     Step [20/80],                     Loss: 0.0284\n",
      "Epoch [14/20],                     Step [30/80],                     Loss: 0.0220\n",
      "Epoch [14/20],                     Step [40/80],                     Loss: 0.0353\n",
      "Epoch [14/20],                     Step [50/80],                     Loss: 0.0204\n",
      "Epoch [14/20],                     Step [60/80],                     Loss: 0.0279\n",
      "Epoch [14/20],                     Step [70/80],                     Loss: 0.0318\n",
      "Epoch [14/20],                     Step [80/80],                     Loss: 0.0337\n",
      "Epoch [15/20],                     Step [10/80],                     Loss: 0.0222\n",
      "Epoch [15/20],                     Step [20/80],                     Loss: 0.0304\n",
      "Epoch [15/20],                     Step [30/80],                     Loss: 0.0270\n",
      "Epoch [15/20],                     Step [40/80],                     Loss: 0.0183\n",
      "Epoch [15/20],                     Step [50/80],                     Loss: 0.0214\n",
      "Epoch [15/20],                     Step [60/80],                     Loss: 0.0214\n",
      "Epoch [15/20],                     Step [70/80],                     Loss: 0.0218\n",
      "Epoch [15/20],                     Step [80/80],                     Loss: 0.0209\n",
      "Epoch [16/20],                     Step [10/80],                     Loss: 0.0240\n",
      "Epoch [16/20],                     Step [20/80],                     Loss: 0.0246\n",
      "Epoch [16/20],                     Step [30/80],                     Loss: 0.0255\n",
      "Epoch [16/20],                     Step [40/80],                     Loss: 0.0225\n",
      "Epoch [16/20],                     Step [50/80],                     Loss: 0.0255\n",
      "Epoch [16/20],                     Step [60/80],                     Loss: 0.0216\n",
      "Epoch [16/20],                     Step [70/80],                     Loss: 0.0173\n",
      "Epoch [16/20],                     Step [80/80],                     Loss: 0.0195\n",
      "Epoch [17/20],                     Step [10/80],                     Loss: 0.0170\n",
      "Epoch [17/20],                     Step [20/80],                     Loss: 0.0166\n",
      "Epoch [17/20],                     Step [30/80],                     Loss: 0.0199\n",
      "Epoch [17/20],                     Step [40/80],                     Loss: 0.0156\n",
      "Epoch [17/20],                     Step [50/80],                     Loss: 0.0235\n",
      "Epoch [17/20],                     Step [60/80],                     Loss: 0.0219\n",
      "Epoch [17/20],                     Step [70/80],                     Loss: 0.0189\n",
      "Epoch [17/20],                     Step [80/80],                     Loss: 0.0157\n",
      "Epoch [18/20],                     Step [10/80],                     Loss: 0.0171\n",
      "Epoch [18/20],                     Step [20/80],                     Loss: 0.0140\n",
      "Epoch [18/20],                     Step [30/80],                     Loss: 0.0184\n",
      "Epoch [18/20],                     Step [40/80],                     Loss: 0.0152\n",
      "Epoch [18/20],                     Step [50/80],                     Loss: 0.0171\n",
      "Epoch [18/20],                     Step [60/80],                     Loss: 0.0153\n",
      "Epoch [18/20],                     Step [70/80],                     Loss: 0.0170\n",
      "Epoch [18/20],                     Step [80/80],                     Loss: 0.0173\n",
      "Epoch [19/20],                     Step [10/80],                     Loss: 0.0140\n",
      "Epoch [19/20],                     Step [20/80],                     Loss: 0.0119\n",
      "Epoch [19/20],                     Step [30/80],                     Loss: 0.0197\n",
      "Epoch [19/20],                     Step [40/80],                     Loss: 0.0147\n",
      "Epoch [19/20],                     Step [50/80],                     Loss: 0.0145\n",
      "Epoch [19/20],                     Step [60/80],                     Loss: 0.0197\n",
      "Epoch [19/20],                     Step [70/80],                     Loss: 0.0157\n",
      "Epoch [19/20],                     Step [80/80],                     Loss: 0.0113\n",
      "Epoch [20/20],                     Step [10/80],                     Loss: 0.0122\n",
      "Epoch [20/20],                     Step [20/80],                     Loss: 0.0152\n",
      "Epoch [20/20],                     Step [30/80],                     Loss: 0.0148\n",
      "Epoch [20/20],                     Step [40/80],                     Loss: 0.0096\n",
      "Epoch [20/20],                     Step [50/80],                     Loss: 0.0153\n",
      "Epoch [20/20],                     Step [60/80],                     Loss: 0.0110\n",
      "Epoch [20/20],                     Step [70/80],                     Loss: 0.0111\n",
      "Epoch [20/20],                     Step [80/80],                     Loss: 0.0120\n"
     ]
    }
   ],
   "source": [
    "# 訓練模型\n",
    "total_step = len(train_loader)  #  1 epoch = 800/batch = 40\n",
    "loss_list =[]\n",
    "for epoch in range(num_epochs):\n",
    "    loss = 0\n",
    "    for i, (images, labels) in enumerate(train_loader):\n",
    "\n",
    "        images = images.to(device)\n",
    "        labels = labels.to(device)\n",
    "\n",
    "        # 前向傳播\n",
    "        outputs = model(images)\n",
    "        loss = criterion(outputs, labels)\n",
    "\n",
    "        # 反向傳播和優化\n",
    "        optimizer.zero_grad()\n",
    "        loss.backward()\n",
    "        optimizer.step()\n",
    "\n",
    "        if (i+1) % 10 == 0:\n",
    "            print(f'Epoch [{epoch+1}/{num_epochs}], \\\n",
    "                    Step [{i+1}/{total_step}], \\\n",
    "                    Loss: {loss.item():.4f}')\n",
    "    loss_list.append(loss.item())\n",
    "\n"
   ]
  },
  {
   "cell_type": "code",
   "execution_count": 11,
   "metadata": {
    "ExecuteTime": {
     "end_time": "2023-05-23T10:55:53.005925800Z",
     "start_time": "2023-05-23T10:55:52.185254100Z"
    }
   },
   "outputs": [
    {
     "data": {
      "text/plain": "<Figure size 640x480 with 1 Axes>",
      "image/png": "[encoded data removed]"
     },
     "metadata": {},
     "output_type": "display_data"
    },
    {
     "name": "stdout",
     "output_type": "stream",
     "text": [
      "Accuracy of the model on the test images: 99.5 %\n",
      "total:200 ,\tcorrect:199\n"
     ]
    }
   ],
   "source": [
    "# 測試模型\n",
    "\n",
    "label_dict = train_dataset.class_to_idx\n",
    "reverse_label_dict = {v: k for k, v in label_dict.items()}\n",
    "\n",
    "# 導入 Matplotlib 庫\n",
    "from matplotlib import pyplot as plt\n",
    "\n",
    "# 繪製訓練過程中的損失(loss)值變化圖\n",
    "plt.plot(loss_list)\n",
    "plt.title('Train Loss')\n",
    "plt.show()\n",
    "\n",
    "# 設置模型為評估模式\n",
    "model.eval()\n",
    "\n",
    "# 在不計算梯度的情況下測試模型\n",
    "with torch.no_grad():\n",
    "    # 初始化準確率計數器\n",
    "    correct = 0\n",
    "    total = 0\n",
    "    error = []\n",
    "    # 循環處理測試集中的每一個樣本\n",
    "    for images, labels in test_loader:\n",
    "        # 將樣本數據和標籤移到 GPU 上進行計算\n",
    "        images = images.to(device)\n",
    "        labels = labels.to(device)\n",
    "        # 通過神經網絡進行預測\n",
    "        outputs = model(images)\n",
    "        # 找到每個樣本的最大值及其對應的索引，即預測類別\n",
    "        _, predicted = torch.max(outputs.data, 1)\n",
    "        # 統計正確預測的數量\n",
    "        total += labels.size(0)\n",
    "        correct += (predicted == labels).sum().item()\n",
    "        # 判斷預測值和實際標籤是否一致，如果不一致就把它們添加到錯誤列表中\n",
    "\n",
    "    # 計算並輸出準確率\n",
    "    print('Accuracy of the model on the test images: {} %'.format(100 * correct / total))\n",
    "    print(f'total:{total} ,\\tcorrect:{correct}')\n",
    "\n",
    "\n"
   ]
  },
  {
   "cell_type": "markdown",
   "metadata": {},
   "source": [
    "# 儲存模型"
   ]
  },
  {
   "cell_type": "code",
   "execution_count": 12,
   "metadata": {
    "ExecuteTime": {
     "end_time": "2023-05-23T10:56:57.233460700Z",
     "start_time": "2023-05-23T10:56:57.214266800Z"
    }
   },
   "outputs": [],
   "source": [
    "# 只儲存權重\n",
    "torch.save(model.state_dict(), '50on_model.ckpt')\n",
    "# 儲存整個模型和權重\n",
    "torch.save(model, '50on_model_all.pt')\n",
    "\n"
   ]
  },
  {
   "cell_type": "markdown",
   "metadata": {},
   "source": [
    "# 載入模型"
   ]
  },
  {
   "cell_type": "code",
   "execution_count": 13,
   "metadata": {
    "ExecuteTime": {
     "end_time": "2023-05-23T10:56:59.664332900Z",
     "start_time": "2023-05-23T10:56:59.627934100Z"
    }
   },
   "outputs": [
    {
     "data": {
      "text/plain": "<PIL.JpegImagePlugin.JpegImageFile image mode=RGB size=84x84>",
      "image/png": "[encoded data removed]"
     },
     "metadata": {},
     "output_type": "display_data"
    },
    {
     "name": "stdout",
     "output_type": "stream",
     "text": [
      "預測結果:kanaHA\n"
     ]
    }
   ],
   "source": [
    "import torch\n",
    "from torchvision import transforms\n",
    "import torchvision.models as models\n",
    "from PIL import Image\n",
    "\n",
    "# 定義圖片轉換\n",
    "test_transform = transforms.Compose([\n",
    "    transforms.Resize((32, 32)),  # 調整大小為 32x32\n",
    "    transforms.Grayscale(num_output_channels=1),  # 轉為單通道灰度圖像\n",
    "    transforms.ToTensor(),  # 轉為張量\n",
    "    transforms.Normalize((0.5,), (0.5,))  # 歸一化\n",
    "])\n",
    "# 載入圖片\n",
    "img = Image.open('./dataset/test_images/HA.jpg')\n",
    "display(img)\n",
    "img = test_transform(img).to(device)\n",
    "# 增加一維，batch大小設為 1\n",
    "img = img.unsqueeze(0)\n",
    "\n",
    "\n",
    "# 載入模型\n",
    "model = torch.load('50on_model_all.pt')\n",
    "# 設置模型為評估模式\n",
    "model.eval().to(device)\n",
    "\n",
    "\n",
    "# 使用模型進行預測\n",
    "with torch.no_grad():\n",
    "    output = model(img)\n",
    "\n",
    "# 取得預測結果\n",
    "_, preds = torch.max(output, 1)\n",
    "label_dict = train_dataset.class_to_idx\n",
    "reverse_label_dict = {v: k for k, v in label_dict.items()}\n",
    "print(f'預測結果:{reverse_label_dict[preds.item()]}')"
   ]
  },
  {
   "cell_type": "code",
   "execution_count": null,
   "outputs": [],
   "source": [],
   "metadata": {
    "collapsed": false
   }
  }
 ],
 "metadata": {
  "kernelspec": {
   "display_name": "Python 3 (ipykernel)",
   "language": "python",
   "name": "python3"
  },
  "language_info": {
   "codemirror_mode": {
    "name": "ipython",
    "version": 3
   },
   "file_extension": ".py",
   "mimetype": "text/x-python",
   "name": "python",
   "nbconvert_exporter": "python",
   "pygments_lexer": "ipython3",
   "version": "3.11.3"
  }
 },
 "nbformat": 4,
 "nbformat_minor": 1
}
