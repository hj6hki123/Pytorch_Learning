{
 "cells": [
  {
   "cell_type": "markdown",
   "metadata": {},
   "source": []
  },
  {
   "cell_type": "code",
   "execution_count": 15,
   "metadata": {},
   "outputs": [],
   "source": [
    "from pathlib import Path\n",
    "\n",
    "import torch\n",
    "from torch import nn\n",
    "from torch.utils.data import Dataset, DataLoader\n",
    "from torchvision import transforms\n",
    "from PIL import Image\n",
    "from tqdm import tqdm\n",
    "from pydantic import BaseModel\n",
    "\n",
    "import wandb"
   ]
  },
  {
   "cell_type": "markdown",
   "metadata": {},
   "source": [
    "## Set Hyper Parameters"
   ]
  },
  {
   "cell_type": "code",
   "execution_count": 16,
   "metadata": {},
   "outputs": [],
   "source": [
    "class Settings(BaseModel):\n",
    "    project_name: str = '0510_demo'\n",
    "    device: str = 'cuda'\n",
    "    epoch: int = 50\n",
    "    batch: int = 128\n",
    "    learning_rate: float = 2e-4\n",
    "    image_size: int = 64\n",
    "    sample_interval: int = 500\n",
    "\n",
    "    # Size of z latent vector (i.e. size of generator input)\n",
    "    nz = 100\n",
    "    # Size of feature maps in generator\n",
    "    ngf = 64\n",
    "    # Number of channels in the training images. For color images this is 3\n",
    "    nc = 1\n",
    "    # Size of feature maps in discriminator\n",
    "    ndf = 64\n",
    "    # Beta1 hyperparam for Adam optimizers\n",
    "    beta1 = 0.5\n",
    "    # Establish convention for real and fake labels during training\n",
    "    real_label = 1.\n",
    "    fake_label = 0."
   ]
  },
  {
   "cell_type": "markdown",
   "metadata": {},
   "source": [
    "## Define Discriminator"
   ]
  },
  {
   "cell_type": "code",
   "execution_count": 17,
   "metadata": {},
   "outputs": [],
   "source": [
    "class Discriminator(nn.Module):\n",
    "    def __init__(self, nc=3, ndf=64):\n",
    "        super(Discriminator, self).__init__()\n",
    "        self.main = nn.Sequential(\n",
    "            nn.Conv2d(nc, ndf, 4, 2, 1, bias=False),\n",
    "            nn.LeakyReLU(0.2, inplace=True),\n",
    "            # state size. (ndf) x 32 x 32\n",
    "            nn.Conv2d(ndf, ndf * 2, 4, 2, 1, bias=False),\n",
    "            nn.BatchNorm2d(ndf * 2),\n",
    "            nn.LeakyReLU(0.2, inplace=True),\n",
    "            # state size. (ndf*2) x 16 x 16\n",
    "            nn.Conv2d(ndf * 2, ndf * 4, 4, 2, 1, bias=False),\n",
    "            nn.BatchNorm2d(ndf * 4),\n",
    "            nn.LeakyReLU(0.2, inplace=True),\n",
    "            # state size. (ndf*4) x 8 x 8\n",
    "            nn.Conv2d(ndf * 4, ndf * 8, 4, 2, 1, bias=False),\n",
    "            nn.BatchNorm2d(ndf * 8),\n",
    "            nn.LeakyReLU(0.2, inplace=True),\n",
    "            # state size. (ndf*8) x 4 x 4\n",
    "            nn.Conv2d(ndf * 8, 1, 4, 1, 0, bias=False),\n",
    "            nn.Sigmoid()\n",
    "        )\n",
    "\n",
    "    def forward(self, x):\n",
    "        return self.main(x)"
   ]
  },
  {
   "cell_type": "markdown",
   "metadata": {},
   "source": [
    "## Define Generator"
   ]
  },
  {
   "cell_type": "code",
   "execution_count": 18,
   "metadata": {},
   "outputs": [],
   "source": [
    "class Generator(nn.Module):\n",
    "    def __init__(self, nz=100, ngf=64, nc=3):\n",
    "        super(Generator, self).__init__()\n",
    "        self.main = nn.Sequential(\n",
    "            # input is Z, going into a convolution\n",
    "            nn.ConvTranspose2d(nz, ngf * 8, 4, 1, 0, bias=False),\n",
    "            nn.BatchNorm2d(ngf * 8),\n",
    "            nn.ReLU(True),\n",
    "            # state size. (ngf*8) x 4 x 4\n",
    "            nn.ConvTranspose2d(ngf * 8, ngf * 4, 4, 2, 1, bias=False),\n",
    "            nn.BatchNorm2d(ngf * 4),\n",
    "            nn.ReLU(True),\n",
    "            # state size. (ngf*4) x 8 x 8\n",
    "            nn.ConvTranspose2d(ngf * 4, ngf * 2, 4, 2, 1, bias=False),\n",
    "            nn.BatchNorm2d(ngf * 2),\n",
    "            nn.ReLU(True),\n",
    "            # state size. (ngf*2) x 16 x 16\n",
    "            nn.ConvTranspose2d(ngf * 2, ngf, 4, 2, 1, bias=False),\n",
    "            nn.BatchNorm2d(ngf),\n",
    "            nn.ReLU(True),\n",
    "            # state size. (ngf) x 32 x 32\n",
    "            nn.ConvTranspose2d(ngf, nc, 4, 2, 1, bias=False),\n",
    "            nn.Tanh()\n",
    "            # state size. (nc) x 64 x 64\n",
    "        )\n",
    "\n",
    "    def forward(self, x):\n",
    "        return self.main(x)"
   ]
  },
  {
   "cell_type": "markdown",
   "metadata": {},
   "source": [
    "## Define Dataset (Data Loader)\n",
    "\n",
    "- Here use pytorch built-in function"
   ]
  },
  {
   "cell_type": "code",
   "execution_count": 19,
   "metadata": {},
   "outputs": [],
   "source": [
    "from torchvision.datasets import mnist\n",
    "\n",
    "def transform(img_size):\n",
    "    return transforms.Compose([\n",
    "        transforms.Resize((img_size, img_size)),\n",
    "        transforms.CenterCrop((img_size, img_size)),\n",
    "        transforms.ToTensor(),\n",
    "        transforms.Normalize((0.5), (0.5))\n",
    "    ])"
   ]
  },
  {
   "cell_type": "markdown",
   "metadata": {},
   "source": [
    "## Build model strategy"
   ]
  },
  {
   "cell_type": "code",
   "execution_count": 20,
   "metadata": {},
   "outputs": [],
   "source": [
    "class DCGAN():\n",
    "    def __init__(self) -> None:\n",
    "        self.args = Settings()\n",
    "\n",
    "        wandb.init(project=self.args.project_name, config=self.args.dict(), save_code=True)\n",
    "\n",
    "    def load_dataset(self):\n",
    "        self.dataset = mnist.MNIST('./part3/dataset/mnist', train=True, transform=transform(self.args.image_size), download=True)\n",
    "        self.loader = DataLoader(dataset=self.dataset, batch_size=self.args.batch)\n",
    "\n",
    "    def load_model(self):\n",
    "        self.g_model, self.g_loss, self.g_optim = self.generator()\n",
    "        self.d_model, self.d_loss, self.d_optim = self.discriminator()\n",
    "\n",
    "    def generator(self):\n",
    "        model = Generator(nc=self.args.nc, ngf=self.args.ngf, nz=self.args.nz).to(self.args.device)\n",
    "        model.apply(self.weights_init)\n",
    "        criterion = nn.BCELoss()\n",
    "        optimizer = torch.optim.Adam(model.parameters(), lr=self.args.learning_rate, betas=(self.args.beta1, 0.999))\n",
    "        return model, criterion, optimizer\n",
    "\n",
    "    def discriminator(self):\n",
    "        model = Discriminator(nc=self.args.nc, ndf=self.args.ndf).to(self.args.device)\n",
    "        model.apply(self.weights_init)\n",
    "        criterion = nn.BCELoss()\n",
    "        optimizer = torch.optim.Adam(model.parameters(), lr=self.args.learning_rate, betas=(self.args.beta1, 0.999))\n",
    "        return model, criterion, optimizer\n",
    "\n",
    "    def weights_init(self, m):\n",
    "        # custom weights initialization called on netG and netD\n",
    "        classname = m.__class__.__name__\n",
    "        if classname.find('Conv') != -1:\n",
    "            nn.init.normal_(m.weight.data, 0.0, 0.02)\n",
    "        elif classname.find('BatchNorm') != -1:\n",
    "            nn.init.normal_(m.weight.data, 1.0, 0.02)\n",
    "            nn.init.constant_(m.bias.data, 0)\n",
    "\n",
    "    def train_one_epoch(self, i_epoch: int):\n",
    "        self.metric = {\n",
    "            'train_d': {},\n",
    "            'train_g': {},\n",
    "        }\n",
    "        self.i_epoch = i_epoch\n",
    "        self.d_model.train(mode=True)\n",
    "        self.g_model.train(mode=True)\n",
    "        bar = tqdm(self.loader, unit='batch', leave=True)\n",
    "        for i_batch, (data, label) in enumerate(bar):\n",
    "            self.step = (i_epoch * len(self.loader) + i_batch)\n",
    "            data = data.to(self.args.device)\n",
    "\n",
    "            fake = self.train_d(data)\n",
    "\n",
    "            self.train_g(fake)\n",
    "\n",
    "            self.show_result(fake)\n",
    "\n",
    "            loss = {\n",
    "                'd_loss': self.metric['train_d']['loss'][-1],\n",
    "                'g_loss': self.metric['train_g']['loss'][-1],\n",
    "            }\n",
    "            wandb.log({**loss, **{'i_epoch': self.i_epoch, 'step': self.step, }}, step=self.step)\n",
    "\n",
    "            bar.set_description(f'Epoch [{self.i_epoch + 1}/{self.args.epoch}]')\n",
    "            bar.set_postfix(**loss)\n",
    "        return 0\n",
    "\n",
    "    def show_result(self, fake):\n",
    "        if self.step % self.args.sample_interval == 0:\n",
    "            wandb.log({\n",
    "                'fake': [wandb.Image(im.permute(1,2,0).detach().cpu().numpy()) for index, im in enumerate(fake) if index < 24]\n",
    "            }, step=self.step)\n",
    "        return 0\n",
    "\n",
    "    def train_d(self, data):\n",
    "        ############################\n",
    "        # (1) Update D network: maximize log(D(x)) + log(1 - D(G(z)))\n",
    "        ###########################\n",
    "        # Train with all-real batch\n",
    "        self.d_optim.zero_grad()\n",
    "        # Format batch\n",
    "        real_inputs = data.to(self.args.device)\n",
    "        b_size = real_inputs.size(0)\n",
    "        label = torch.full((b_size,), self.args.real_label, dtype=torch.float, device=self.args.device)\n",
    "        # Forward pass real batch through D\n",
    "        output = self.d_model.forward(real_inputs).view(-1)\n",
    "        # Calculate loss on all-real batch\n",
    "        errD_real = self.d_loss.forward(output, label)\n",
    "        # Calculate gradients for D in backward pass\n",
    "        torch.autograd.backward(errD_real)\n",
    "        D_x = output.mean().item()\n",
    "\n",
    "        # Train with all-fake batch\n",
    "        # Generate batch of latent vectors\n",
    "        noise = torch.randn(b_size, self.args.nz, 1, 1, device=self.args.device)\n",
    "        # Generate fake image batch with G\n",
    "        fake = self.g_model.forward(noise)\n",
    "        label.fill_(self.args.fake_label)\n",
    "        # Classify all fake batch with D\n",
    "        output = self.d_model.forward(fake.detach()).view(-1)\n",
    "        # Calculate D's loss on the all-fake batch\n",
    "        errD_fake = self.d_loss.forward(output, label)\n",
    "        # Calculate the gradients for this batch, accumulated (summed) with previous gradients\n",
    "        torch.autograd.backward(errD_fake)\n",
    "        D_G_z1 = output.mean().item()\n",
    "        # Compute error of D as sum over the fake and the real batches\n",
    "        errD = errD_real + errD_fake\n",
    "        # Update D\n",
    "        self.d_optim.step()\n",
    "        self.metric['train_d'].setdefault('loss', []).append(errD.item())\n",
    "        return fake\n",
    "\n",
    "    def train_g(self, fake):\n",
    "        ############################\n",
    "        # (2) Update G network: maximize log(D(G(z)))\n",
    "        ###########################\n",
    "        self.g_optim.zero_grad()\n",
    "        # fake labels are real for generator cost\n",
    "        label = torch.full((fake.size(0),), self.args.real_label, dtype=torch.float, device=self.args.device)\n",
    "        # Since we just updated D, perform another forward pass of all-fake batch through D\n",
    "        output = self.d_model.forward(fake).view(-1)\n",
    "        # Calculate G's loss based on this output\n",
    "        errG = self.d_loss(output, label)\n",
    "        # Calculate gradients for G\n",
    "        torch.autograd.backward(errG)\n",
    "        D_G_z2 = output.mean().item()\n",
    "        # Update G\n",
    "        self.g_optim.step()\n",
    "        self.metric['train_g'].setdefault('loss', []).append(errG.item())\n",
    "        return 0\n",
    "\n",
    "    def train(self):\n",
    "        for i_epoch in range(self.args.epoch):\n",
    "            self.train_one_epoch(i_epoch)\n",
    "            self.validation()\n",
    "            self.save_model()\n",
    "        return 0\n",
    "\n",
    "    def validation(self):\n",
    "        return 0\n",
    "\n",
    "    def test(self):\n",
    "        return 0\n",
    "\n",
    "    def save_model(self):\n",
    "        return 0"
   ]
  },
  {
   "cell_type": "markdown",
   "metadata": {},
   "source": [
    "## Running Process"
   ]
  },
  {
   "cell_type": "code",
   "execution_count": 21,
   "metadata": {},
   "outputs": [
    {
     "data": {
      "text/html": [
       "Finishing last run (ID:rgcoxq8g) before initializing another..."
      ],
      "text/plain": [
       "<IPython.core.display.HTML object>"
      ]
     },
     "metadata": {},
     "output_type": "display_data"
    },
    {
     "data": {
      "text/html": [
       "Waiting for W&B process to finish... <strong style=\"color:green\">(success).</strong>"
      ],
      "text/plain": [
       "<IPython.core.display.HTML object>"
      ]
     },
     "metadata": {},
     "output_type": "display_data"
    },
    {
     "data": {
      "application/vnd.jupyter.widget-view+json": {
       "model_id": "35450f5392094085af5b1a57f54f26b8",
       "version_major": 2,
       "version_minor": 0
      },
      "text/plain": [
       "VBox(children=(Label(value='3.014 MB of 3.014 MB uploaded (0.000 MB deduped)\\r'), FloatProgress(value=1.0, max…"
      ]
     },
     "metadata": {},
     "output_type": "display_data"
    },
    {
     "data": {
      "text/html": [
       "<style>\n",
       "    table.wandb td:nth-child(1) { padding: 0 10px; text-align: left ; width: auto;} td:nth-child(2) {text-align: left ; width: 100%}\n",
       "    .wandb-row { display: flex; flex-direction: row; flex-wrap: wrap; justify-content: flex-start; width: 100% }\n",
       "    .wandb-col { display: flex; flex-direction: column; flex-basis: 100%; flex: 1; padding: 10px; }\n",
       "    </style>\n",
       "<div class=\"wandb-row\"><div class=\"wandb-col\"><h3>Run history:</h3><br/><table class=\"wandb\"><tr><td>d_loss</td><td>▁▂█▄▂▁▂▂▁▁▂▁▂▁▁▁▄▁▁▁▂▁▂▂▁▁▁▁▁▁▁▁▁▁▁▁▁▁▁▁</td></tr><tr><td>g_loss</td><td>▂▁▁▂▁▂▂▁▂▂▁▁▁▁▁▁▁▂▂▂▁▂▂▁▂▂▂▂▂▂▂▂████████</td></tr><tr><td>i_epoch</td><td>▁▁▁▁▂▂▂▂▂▃▃▃▃▃▄▄▄▄▄▄▅▅▅▅▅▅▆▆▆▆▆▇▇▇▇▇▇███</td></tr><tr><td>step</td><td>▁▁▁▁▂▂▂▂▂▃▃▃▃▃▄▄▄▄▄▄▅▅▅▅▅▅▆▆▆▆▆▇▇▇▇▇████</td></tr></table><br/></div><div class=\"wandb-col\"><h3>Run summary:</h3><br/><table class=\"wandb\"><tr><td>d_loss</td><td>0.0</td></tr><tr><td>g_loss</td><td>47.45189</td></tr><tr><td>i_epoch</td><td>49</td></tr><tr><td>step</td><td>23449</td></tr></table><br/></div></div>"
      ],
      "text/plain": [
       "<IPython.core.display.HTML object>"
      ]
     },
     "metadata": {},
     "output_type": "display_data"
    },
    {
     "data": {
      "text/html": [
       " View run <strong style=\"color:#cdcd00\">pleasant-music-5</strong> at: <a href='http://140.127.114.38:8081/yucheng/0510_demo/runs/rgcoxq8g' target=\"_blank\">http://140.127.114.38:8081/yucheng/0510_demo/runs/rgcoxq8g</a><br/>Synced 6 W&B file(s), 1128 media file(s), 0 artifact file(s) and 0 other file(s)"
      ],
      "text/plain": [
       "<IPython.core.display.HTML object>"
      ]
     },
     "metadata": {},
     "output_type": "display_data"
    },
    {
     "data": {
      "text/html": [
       "Find logs at: <code>./wandb/run-20230510_121220-rgcoxq8g/logs</code>"
      ],
      "text/plain": [
       "<IPython.core.display.HTML object>"
      ]
     },
     "metadata": {},
     "output_type": "display_data"
    },
    {
     "data": {
      "text/html": [
       "Upgrade to the 0.32.0 version of W&B Server to get the latest features. Learn more: <a href='https://wandb.me/server-upgrade' target=\"_blank\">https://wandb.me/server-upgrade</a>"
      ],
      "text/plain": [
       "<IPython.core.display.HTML object>"
      ]
     },
     "metadata": {},
     "output_type": "display_data"
    },
    {
     "data": {
      "text/html": [
       "Successfully finished last run (ID:rgcoxq8g). Initializing new run:<br/>"
      ],
      "text/plain": [
       "<IPython.core.display.HTML object>"
      ]
     },
     "metadata": {},
     "output_type": "display_data"
    },
    {
     "data": {
      "text/html": [
       "Tracking run with wandb version 0.15.2"
      ],
      "text/plain": [
       "<IPython.core.display.HTML object>"
      ]
     },
     "metadata": {},
     "output_type": "display_data"
    },
    {
     "data": {
      "text/html": [
       "Run data is saved locally in <code>/home/hpds/yucheng/TA/Hiskio Pytorch/wandb/run-20230510_124812-78fys0g2</code>"
      ],
      "text/plain": [
       "<IPython.core.display.HTML object>"
      ]
     },
     "metadata": {},
     "output_type": "display_data"
    },
    {
     "data": {
      "text/html": [
       "Syncing run <strong><a href='http://140.127.114.38:8081/yucheng/0510_demo/runs/78fys0g2' target=\"_blank\">cool-field-6</a></strong> to <a href='http://140.127.114.38:8081/yucheng/0510_demo' target=\"_blank\">Weights & Biases</a> (<a href='https://wandb.me/run' target=\"_blank\">docs</a>)<br/>"
      ],
      "text/plain": [
       "<IPython.core.display.HTML object>"
      ]
     },
     "metadata": {},
     "output_type": "display_data"
    },
    {
     "data": {
      "text/html": [
       " View project at <a href='http://140.127.114.38:8081/yucheng/0510_demo' target=\"_blank\">http://140.127.114.38:8081/yucheng/0510_demo</a>"
      ],
      "text/plain": [
       "<IPython.core.display.HTML object>"
      ]
     },
     "metadata": {},
     "output_type": "display_data"
    },
    {
     "data": {
      "text/html": [
       " View run at <a href='http://140.127.114.38:8081/yucheng/0510_demo/runs/78fys0g2' target=\"_blank\">http://140.127.114.38:8081/yucheng/0510_demo/runs/78fys0g2</a>"
      ],
      "text/plain": [
       "<IPython.core.display.HTML object>"
      ]
     },
     "metadata": {},
     "output_type": "display_data"
    },
    {
     "name": "stderr",
     "output_type": "stream",
     "text": [
      "Epoch [1/50]: 100%|██████████| 469/469 [00:24<00:00, 19.28batch/s, d_loss=0.248, g_loss=2.67] \n",
      "Epoch [2/50]: 100%|██████████| 469/469 [00:24<00:00, 19.16batch/s, d_loss=0.495, g_loss=3.43] \n",
      "Epoch [3/50]: 100%|██████████| 469/469 [00:24<00:00, 19.23batch/s, d_loss=0.604, g_loss=3.8]  \n",
      "Epoch [4/50]: 100%|██████████| 469/469 [00:24<00:00, 19.17batch/s, d_loss=0.164, g_loss=4.83] \n",
      "Epoch [5/50]: 100%|██████████| 469/469 [00:24<00:00, 19.42batch/s, d_loss=0.363, g_loss=3.3]  \n",
      "Epoch [6/50]: 100%|██████████| 469/469 [00:24<00:00, 19.08batch/s, d_loss=0.424, g_loss=3.34] \n",
      "Epoch [7/50]: 100%|██████████| 469/469 [00:25<00:00, 18.73batch/s, d_loss=0.27, g_loss=4.09]  \n",
      "Epoch [8/50]: 100%|██████████| 469/469 [00:24<00:00, 19.54batch/s, d_loss=0.149, g_loss=3.88] \n",
      "Epoch [9/50]: 100%|██████████| 469/469 [00:24<00:00, 19.07batch/s, d_loss=0.313, g_loss=4.17] \n",
      "Epoch [10/50]: 100%|██████████| 469/469 [00:24<00:00, 18.95batch/s, d_loss=0.0995, g_loss=4.66]\n",
      "Epoch [11/50]: 100%|██████████| 469/469 [00:24<00:00, 18.77batch/s, d_loss=0.277, g_loss=3.86] \n",
      "Epoch [12/50]: 100%|██████████| 469/469 [00:24<00:00, 19.00batch/s, d_loss=0.37, g_loss=3.89]  \n",
      "Epoch [13/50]: 100%|██████████| 469/469 [00:24<00:00, 19.26batch/s, d_loss=0.0546, g_loss=5.14]\n",
      "Epoch [14/50]: 100%|██████████| 469/469 [00:24<00:00, 19.00batch/s, d_loss=0.177, g_loss=4.15] \n",
      "Epoch [15/50]: 100%|██████████| 469/469 [00:25<00:00, 18.66batch/s, d_loss=0.368, g_loss=3.16] \n",
      "Epoch [16/50]: 100%|██████████| 469/469 [00:24<00:00, 18.86batch/s, d_loss=0.494, g_loss=3.95]  \n",
      "Epoch [17/50]: 100%|██████████| 469/469 [00:24<00:00, 18.82batch/s, d_loss=0.103, g_loss=5.05] \n",
      "Epoch [18/50]: 100%|██████████| 469/469 [00:25<00:00, 18.72batch/s, d_loss=6.09, g_loss=1.75]   \n",
      "Epoch [19/50]: 100%|██████████| 469/469 [00:24<00:00, 19.16batch/s, d_loss=0.172, g_loss=4.68]  \n",
      "Epoch [20/50]: 100%|██████████| 469/469 [00:24<00:00, 18.98batch/s, d_loss=0.57, g_loss=2.86]  \n",
      "Epoch [21/50]: 100%|██████████| 469/469 [00:24<00:00, 18.76batch/s, d_loss=0.361, g_loss=3.33]  \n",
      "Epoch [22/50]: 100%|██████████| 469/469 [00:25<00:00, 18.62batch/s, d_loss=0.151, g_loss=4.47] \n",
      "Epoch [23/50]: 100%|██████████| 469/469 [00:24<00:00, 18.80batch/s, d_loss=0.0146, g_loss=5.33] \n",
      "Epoch [24/50]: 100%|██████████| 469/469 [00:25<00:00, 18.60batch/s, d_loss=0.0708, g_loss=4.4]  \n",
      "Epoch [25/50]: 100%|██████████| 469/469 [00:24<00:00, 18.76batch/s, d_loss=0.656, g_loss=3.46]  \n",
      "Epoch [26/50]: 100%|██████████| 469/469 [00:24<00:00, 19.15batch/s, d_loss=0.195, g_loss=3.84]  \n",
      "Epoch [27/50]: 100%|██████████| 469/469 [00:24<00:00, 19.05batch/s, d_loss=0.0107, g_loss=5.19] \n",
      "Epoch [28/50]: 100%|██████████| 469/469 [00:25<00:00, 18.62batch/s, d_loss=0.00196, g_loss=7.36] \n",
      "Epoch [29/50]: 100%|██████████| 469/469 [00:25<00:00, 18.35batch/s, d_loss=0.000144, g_loss=10.6]\n",
      "Epoch [30/50]: 100%|██████████| 469/469 [00:25<00:00, 18.63batch/s, d_loss=54.4, g_loss=81.6]    \n",
      "Epoch [31/50]: 100%|██████████| 469/469 [00:25<00:00, 18.73batch/s, d_loss=55.1, g_loss=81.9]\n",
      "Epoch [32/50]: 100%|██████████| 469/469 [00:25<00:00, 18.70batch/s, d_loss=55.1, g_loss=81.9]\n",
      "Epoch [33/50]: 100%|██████████| 469/469 [00:24<00:00, 19.04batch/s, d_loss=55.1, g_loss=81.9]\n",
      "Epoch [34/50]: 100%|██████████| 469/469 [00:25<00:00, 18.55batch/s, d_loss=55.1, g_loss=81.9]\n",
      "Epoch [35/50]: 100%|██████████| 469/469 [00:25<00:00, 18.63batch/s, d_loss=55.1, g_loss=81.9]\n",
      "Epoch [36/50]: 100%|██████████| 469/469 [00:24<00:00, 18.91batch/s, d_loss=55.1, g_loss=81.9]\n",
      "Epoch [37/50]: 100%|██████████| 469/469 [00:25<00:00, 18.75batch/s, d_loss=55.1, g_loss=81.9]\n",
      "Epoch [38/50]: 100%|██████████| 469/469 [00:25<00:00, 18.27batch/s, d_loss=55.1, g_loss=81.9]\n",
      "Epoch [39/50]: 100%|██████████| 469/469 [00:25<00:00, 18.71batch/s, d_loss=55.1, g_loss=81.9]\n",
      "Epoch [40/50]: 100%|██████████| 469/469 [00:24<00:00, 18.77batch/s, d_loss=55.1, g_loss=81.9]\n",
      "Epoch [41/50]: 100%|██████████| 469/469 [00:25<00:00, 18.73batch/s, d_loss=55.1, g_loss=81.9]\n",
      "Epoch [42/50]: 100%|██████████| 469/469 [00:24<00:00, 19.14batch/s, d_loss=55.1, g_loss=81.9]\n",
      "Epoch [43/50]: 100%|██████████| 469/469 [00:25<00:00, 18.65batch/s, d_loss=55.1, g_loss=81.9]\n",
      "Epoch [44/50]: 100%|██████████| 469/469 [00:24<00:00, 18.99batch/s, d_loss=55.1, g_loss=81.9]\n",
      "Epoch [45/50]: 100%|██████████| 469/469 [00:25<00:00, 18.36batch/s, d_loss=55.1, g_loss=81.9]\n",
      "Epoch [46/50]: 100%|██████████| 469/469 [00:24<00:00, 19.06batch/s, d_loss=55.1, g_loss=81.9]\n",
      "Epoch [47/50]: 100%|██████████| 469/469 [00:26<00:00, 17.94batch/s, d_loss=55.1, g_loss=81.9]\n",
      "Epoch [48/50]: 100%|██████████| 469/469 [00:24<00:00, 18.81batch/s, d_loss=55.1, g_loss=81.9]\n",
      "Epoch [49/50]: 100%|██████████| 469/469 [00:25<00:00, 18.44batch/s, d_loss=55.1, g_loss=81.9]\n",
      "Epoch [50/50]: 100%|██████████| 469/469 [00:26<00:00, 17.90batch/s, d_loss=55.1, g_loss=81.9]\n"
     ]
    },
    {
     "data": {
      "text/plain": [
       "0"
      ]
     },
     "execution_count": 21,
     "metadata": {},
     "output_type": "execute_result"
    }
   ],
   "source": [
    "deep_conv_gan = DCGAN()\n",
    "deep_conv_gan.load_dataset()\n",
    "deep_conv_gan.load_model()\n",
    "deep_conv_gan.train()"
   ]
  }
 ],
 "metadata": {
  "kernelspec": {
   "display_name": "Python 3.9.16 ('Testing')",
   "language": "python",
   "name": "python3"
  },
  "language_info": {
   "codemirror_mode": {
    "name": "ipython",
    "version": 3
   },
   "file_extension": ".py",
   "mimetype": "text/x-python",
   "name": "python",
   "nbconvert_exporter": "python",
   "pygments_lexer": "ipython3",
   "version": "3.9.16"
  },
  "orig_nbformat": 4,
  "vscode": {
   "interpreter": {
    "hash": "b95d3b5331a269c10f88601cd1d3baff493257c4bb176e7422896ec2d1e1d22d"
   }
  }
 },
 "nbformat": 4,
 "nbformat_minor": 2
}
