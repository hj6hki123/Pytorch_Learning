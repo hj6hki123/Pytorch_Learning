{
 "cells": [
  {
   "cell_type": "markdown",
   "metadata": {},
   "source": [
    "# 圖片分類"
   ]
  },
  {
   "cell_type": "code",
   "execution_count": 39,
   "metadata": {
    "ExecuteTime": {
     "end_time": "2023-05-10T07:21:10.730084400Z",
     "start_time": "2023-05-10T07:21:09.770999400Z"
    }
   },
   "outputs": [],
   "source": [
    "import os\n",
    "import shutil\n",
    "# 遍歷資料夾中的檔案\n",
    "for filename in os.listdir('./hiragana_images'):\n",
    "    # 判斷檔案是否為 jpg 檔\n",
    "    if filename.endswith('.jpg'):\n",
    "        # 取得檔名中的非數字字元\n",
    "        class_name = os.path.splitext(''.join(filter(lambda x: not x.isdigit(), filename)))[0]\n",
    "        # 建立目標資料夾\n",
    "        target_folder = os.path.join('./my_images', class_name)\n",
    "        if not os.path.exists(target_folder):\n",
    "            os.mkdir(target_folder)\n",
    "        # 複製檔案到對應的資料夾中\n",
    "        shutil.copy(os.path.join('./hiragana_images', filename), os.path.join(target_folder, filename))\n"
   ]
  },
  {
   "cell_type": "markdown",
   "metadata": {},
   "source": [
    "# 模型訓練"
   ]
  },
  {
   "cell_type": "code",
   "execution_count": 40,
   "metadata": {
    "ExecuteTime": {
     "end_time": "2023-05-10T07:21:10.734564400Z",
     "start_time": "2023-05-10T07:21:10.731084200Z"
    }
   },
   "outputs": [],
   "source": [
    "import torch\n",
    "import torch.nn as nn\n",
    "import torch.optim as optim\n",
    "import torchvision.datasets as datasets\n",
    "import torchvision.transforms as transforms\n",
    "from torch.utils.data import DataLoader\n",
    "from sklearn.model_selection import train_test_split"
   ]
  },
  {
   "cell_type": "code",
   "execution_count": 41,
   "metadata": {
    "ExecuteTime": {
     "end_time": "2023-05-10T07:21:10.738572700Z",
     "start_time": "2023-05-10T07:21:10.735569700Z"
    }
   },
   "outputs": [
    {
     "data": {
      "text/plain": "device(type='cuda')"
     },
     "execution_count": 41,
     "metadata": {},
     "output_type": "execute_result"
    }
   ],
   "source": [
    "# 檢查是否有 GPU\n",
    "device = torch.device(\"cuda\" if torch.cuda.is_available() else \"cpu\")\n",
    "device"
   ]
  },
  {
   "cell_type": "code",
   "execution_count": 42,
   "metadata": {
    "ExecuteTime": {
     "end_time": "2023-05-10T07:21:10.742576Z",
     "start_time": "2023-05-10T07:21:10.741067900Z"
    }
   },
   "outputs": [],
   "source": [
    "# 超參數\n",
    "\n",
    "num_classes = 50  # 50音分類\n",
    "batch_size = 10  #訓練樣本數\n",
    "num_epochs = 20  #一期訓練  Iteration = （Data set size / Batch size）* Epoch = (1000/20)*10 = 5000\n",
    "learning_rate = 0.001 #學習率"
   ]
  },
  {
   "cell_type": "code",
   "execution_count": 43,
   "metadata": {
    "ExecuteTime": {
     "end_time": "2023-05-10T07:21:10.746590800Z",
     "start_time": "2023-05-10T07:21:10.745081400Z"
    }
   },
   "outputs": [],
   "source": [
    "# 數據預處理\n",
    "transform = transforms.Compose([\n",
    "    transforms.Resize((32, 32)),  # 調整大小為 32x32\n",
    "    transforms.Grayscale(num_output_channels=1),  # 轉為單通道灰度圖像\n",
    "    transforms.ToTensor(),  # 轉為張量\n",
    "    transforms.Normalize((0.5,), (0.5,))  # 歸一化\n",
    "])"
   ]
  },
  {
   "cell_type": "code",
   "execution_count": 44,
   "metadata": {
    "ExecuteTime": {
     "end_time": "2023-05-10T07:21:11.327282800Z",
     "start_time": "2023-05-10T07:21:10.749590900Z"
    }
   },
   "outputs": [],
   "source": [
    "# 載入數據 並將數據分配測試集和訓練集 8:2\n",
    "train_dataset = datasets.ImageFolder(root='./my_images', transform=transform) # datasets.ImageFolder 會將資料夾中的圖片依照資料夾名稱分類\n",
    "train_data, test_data = train_test_split(train_dataset, test_size=0.2, random_state=42) #train_test_split 會將資料分成兩部分，一部分用來訓練，一部分用來測試\n",
    "#訓練集\n",
    "train_loader = DataLoader(train_data, batch_size=batch_size, shuffle=True)  #每次訓練數量 = Data set size(*0.8) / Batch size = 800/20 = 40\n",
    "#測試集\n",
    "test_loader = DataLoader(test_data, batch_size=batch_size, shuffle=False)\n",
    "\n",
    "# # 載入數據\n",
    "# train_dataset = datasets.ImageFolder(root='F:\\pycharm_pro\\pytorch_learn\\my_images', transform=transform)\n",
    "# train_loader = DataLoader(train_dataset, batch_size=batch_size, shuffle=True)\n"
   ]
  },
  {
   "cell_type": "markdown",
   "metadata": {},
   "source": [
    "卷積層尺寸變化 =\n",
    "$$\n",
    "W_{new} = {W_{o} - Kernelsize + (2 \\times Padding) \\over Stride} +1\n",
    "$$"
   ]
  },
  {
   "cell_type": "code",
   "execution_count": 45,
   "metadata": {
    "ExecuteTime": {
     "end_time": "2023-05-10T07:21:11.333625400Z",
     "start_time": "2023-05-10T07:21:11.331282400Z"
    }
   },
   "outputs": [],
   "source": [
    "# 定義模型\n",
    "class Net(nn.Module):\n",
    "    def __init__(self):\n",
    "        super(Net, self).__init__()\n",
    "        self.layer1 = nn.Sequential(  # <-- (1,32,32)\n",
    "            nn.Conv2d(1, 16, kernel_size=3, padding=1), #--> (32,32,32)\n",
    "            nn.BatchNorm2d(16),\n",
    "            nn.ReLU(),\n",
    "            nn.MaxPool2d(kernel_size=2, stride=2)) #--> (16,16,16)\n",
    "        self.layer2 = nn.Sequential(\n",
    "            nn.Conv2d(16, 32, kernel_size=3, padding=1),#--> (32,16,16)\n",
    "            nn.BatchNorm2d(32),\n",
    "            nn.ReLU(),\n",
    "            nn.MaxPool2d(kernel_size=2, stride=2)) #--> (32,8,8)\n",
    "        self.layer3 = nn.Sequential(\n",
    "            nn.Conv2d(32, 64, kernel_size=3, padding=1),#--> (64,8,8)\n",
    "            nn.BatchNorm2d(64),\n",
    "            nn.ReLU(),\n",
    "            nn.MaxPool2d(kernel_size=2, stride=2))#--> (64,4,4)\n",
    "        self.fc1 = nn.Sequential(\n",
    "            nn.Linear(4*4*64, 256), #--> (256)\n",
    "            nn.Dropout(0.2),\n",
    "            nn.Sigmoid(),\n",
    "        )\n",
    "        self.fc2 = nn.Linear(256,num_classes)\n",
    "\n",
    "    def forward(self, x):\n",
    "        out = self.layer1(x)\n",
    "        out = self.layer2(out)\n",
    "        out = self.layer3(out)\n",
    "        out = out.view(out.size(0), -1)\n",
    "        out = self.fc1(out)\n",
    "        out = self.fc2(out)\n",
    "        return out\n"
   ]
  },
  {
   "cell_type": "code",
   "execution_count": 46,
   "metadata": {
    "ExecuteTime": {
     "end_time": "2023-05-10T07:21:11.346602100Z",
     "start_time": "2023-05-10T07:21:11.335130300Z"
    }
   },
   "outputs": [
    {
     "name": "stdout",
     "output_type": "stream",
     "text": [
      "----------------------------------------------------------------\n",
      "        Layer (type)               Output Shape         Param #\n",
      "================================================================\n",
      "            Conv2d-1           [-1, 16, 32, 32]             160\n",
      "       BatchNorm2d-2           [-1, 16, 32, 32]              32\n",
      "              ReLU-3           [-1, 16, 32, 32]               0\n",
      "         MaxPool2d-4           [-1, 16, 16, 16]               0\n",
      "            Conv2d-5           [-1, 32, 16, 16]           4,640\n",
      "       BatchNorm2d-6           [-1, 32, 16, 16]              64\n",
      "              ReLU-7           [-1, 32, 16, 16]               0\n",
      "         MaxPool2d-8             [-1, 32, 8, 8]               0\n",
      "            Conv2d-9             [-1, 64, 8, 8]          18,496\n",
      "      BatchNorm2d-10             [-1, 64, 8, 8]             128\n",
      "             ReLU-11             [-1, 64, 8, 8]               0\n",
      "        MaxPool2d-12             [-1, 64, 4, 4]               0\n",
      "           Linear-13                  [-1, 256]         262,400\n",
      "          Dropout-14                  [-1, 256]               0\n",
      "          Sigmoid-15                  [-1, 256]               0\n",
      "           Linear-16                   [-1, 50]          12,850\n",
      "================================================================\n",
      "Total params: 298,770\n",
      "Trainable params: 298,770\n",
      "Non-trainable params: 0\n",
      "----------------------------------------------------------------\n",
      "Input size (MB): 0.00\n",
      "Forward/backward pass size (MB): 0.72\n",
      "Params size (MB): 1.14\n",
      "Estimated Total Size (MB): 1.86\n",
      "----------------------------------------------------------------\n"
     ]
    }
   ],
   "source": [
    "# 實例化模型、損失函數和優化器\n",
    "model = Net().to(device)\n",
    "criterion = nn.CrossEntropyLoss().to(device)\n",
    "optimizer = optim.Adam(model.parameters(), lr=learning_rate)\n",
    "\n",
    "#可視化模型\n",
    "from torchsummary import summary\n",
    "summary(model, input_size=(1, 32, 32), device=device.type)"
   ]
  },
  {
   "cell_type": "code",
   "execution_count": 47,
   "metadata": {
    "ExecuteTime": {
     "end_time": "2023-05-10T07:21:16.545446100Z",
     "start_time": "2023-05-10T07:21:11.349601600Z"
    }
   },
   "outputs": [
    {
     "name": "stdout",
     "output_type": "stream",
     "text": [
      "Epoch [1/20],                     Step [10/80],                     Loss: 3.8158\n",
      "Epoch [1/20],                     Step [20/80],                     Loss: 3.8478\n",
      "Epoch [1/20],                     Step [30/80],                     Loss: 3.7841\n",
      "Epoch [1/20],                     Step [40/80],                     Loss: 3.8772\n",
      "Epoch [1/20],                     Step [50/80],                     Loss: 3.8792\n",
      "Epoch [1/20],                     Step [60/80],                     Loss: 3.4343\n",
      "Epoch [1/20],                     Step [70/80],                     Loss: 3.2798\n",
      "Epoch [1/20],                     Step [80/80],                     Loss: 2.9705\n",
      "Epoch [2/20],                     Step [10/80],                     Loss: 3.0728\n",
      "Epoch [2/20],                     Step [20/80],                     Loss: 2.6581\n",
      "Epoch [2/20],                     Step [30/80],                     Loss: 2.5984\n",
      "Epoch [2/20],                     Step [40/80],                     Loss: 2.4307\n",
      "Epoch [2/20],                     Step [50/80],                     Loss: 2.2228\n",
      "Epoch [2/20],                     Step [60/80],                     Loss: 2.1394\n",
      "Epoch [2/20],                     Step [70/80],                     Loss: 1.9053\n",
      "Epoch [2/20],                     Step [80/80],                     Loss: 1.8104\n",
      "Epoch [3/20],                     Step [10/80],                     Loss: 1.6363\n",
      "Epoch [3/20],                     Step [20/80],                     Loss: 1.7544\n",
      "Epoch [3/20],                     Step [30/80],                     Loss: 1.3504\n",
      "Epoch [3/20],                     Step [40/80],                     Loss: 1.3069\n",
      "Epoch [3/20],                     Step [50/80],                     Loss: 1.0647\n",
      "Epoch [3/20],                     Step [60/80],                     Loss: 1.5689\n",
      "Epoch [3/20],                     Step [70/80],                     Loss: 1.1050\n",
      "Epoch [3/20],                     Step [80/80],                     Loss: 1.4249\n",
      "Epoch [4/20],                     Step [10/80],                     Loss: 0.8248\n",
      "Epoch [4/20],                     Step [20/80],                     Loss: 0.8165\n",
      "Epoch [4/20],                     Step [30/80],                     Loss: 0.7989\n",
      "Epoch [4/20],                     Step [40/80],                     Loss: 0.7735\n",
      "Epoch [4/20],                     Step [50/80],                     Loss: 0.4313\n",
      "Epoch [4/20],                     Step [60/80],                     Loss: 0.5698\n",
      "Epoch [4/20],                     Step [70/80],                     Loss: 0.5136\n",
      "Epoch [4/20],                     Step [80/80],                     Loss: 0.5996\n",
      "Epoch [5/20],                     Step [10/80],                     Loss: 0.3662\n",
      "Epoch [5/20],                     Step [20/80],                     Loss: 0.5256\n",
      "Epoch [5/20],                     Step [30/80],                     Loss: 0.3530\n",
      "Epoch [5/20],                     Step [40/80],                     Loss: 0.5124\n",
      "Epoch [5/20],                     Step [50/80],                     Loss: 0.2373\n",
      "Epoch [5/20],                     Step [60/80],                     Loss: 0.3039\n",
      "Epoch [5/20],                     Step [70/80],                     Loss: 0.2567\n",
      "Epoch [5/20],                     Step [80/80],                     Loss: 0.3271\n",
      "Epoch [6/20],                     Step [10/80],                     Loss: 0.2543\n",
      "Epoch [6/20],                     Step [20/80],                     Loss: 0.1904\n",
      "Epoch [6/20],                     Step [30/80],                     Loss: 0.2370\n",
      "Epoch [6/20],                     Step [40/80],                     Loss: 0.2799\n",
      "Epoch [6/20],                     Step [50/80],                     Loss: 0.1830\n",
      "Epoch [6/20],                     Step [60/80],                     Loss: 0.1643\n",
      "Epoch [6/20],                     Step [70/80],                     Loss: 0.1733\n",
      "Epoch [6/20],                     Step [80/80],                     Loss: 0.1504\n",
      "Epoch [7/20],                     Step [10/80],                     Loss: 0.1604\n",
      "Epoch [7/20],                     Step [20/80],                     Loss: 0.1031\n",
      "Epoch [7/20],                     Step [30/80],                     Loss: 0.1682\n",
      "Epoch [7/20],                     Step [40/80],                     Loss: 0.1277\n",
      "Epoch [7/20],                     Step [50/80],                     Loss: 0.1356\n",
      "Epoch [7/20],                     Step [60/80],                     Loss: 0.1702\n",
      "Epoch [7/20],                     Step [70/80],                     Loss: 0.1311\n",
      "Epoch [7/20],                     Step [80/80],                     Loss: 0.0880\n",
      "Epoch [8/20],                     Step [10/80],                     Loss: 0.1187\n",
      "Epoch [8/20],                     Step [20/80],                     Loss: 0.1365\n",
      "Epoch [8/20],                     Step [30/80],                     Loss: 0.0987\n",
      "Epoch [8/20],                     Step [40/80],                     Loss: 0.1177\n",
      "Epoch [8/20],                     Step [50/80],                     Loss: 0.0993\n",
      "Epoch [8/20],                     Step [60/80],                     Loss: 0.1145\n",
      "Epoch [8/20],                     Step [70/80],                     Loss: 0.1019\n",
      "Epoch [8/20],                     Step [80/80],                     Loss: 0.0739\n",
      "Epoch [9/20],                     Step [10/80],                     Loss: 0.0638\n",
      "Epoch [9/20],                     Step [20/80],                     Loss: 0.0905\n",
      "Epoch [9/20],                     Step [30/80],                     Loss: 0.0834\n",
      "Epoch [9/20],                     Step [40/80],                     Loss: 0.0688\n",
      "Epoch [9/20],                     Step [50/80],                     Loss: 0.1034\n",
      "Epoch [9/20],                     Step [60/80],                     Loss: 0.0787\n",
      "Epoch [9/20],                     Step [70/80],                     Loss: 0.0930\n",
      "Epoch [9/20],                     Step [80/80],                     Loss: 0.0609\n",
      "Epoch [10/20],                     Step [10/80],                     Loss: 0.0542\n",
      "Epoch [10/20],                     Step [20/80],                     Loss: 0.0609\n",
      "Epoch [10/20],                     Step [30/80],                     Loss: 0.0625\n",
      "Epoch [10/20],                     Step [40/80],                     Loss: 0.0623\n",
      "Epoch [10/20],                     Step [50/80],                     Loss: 0.0620\n",
      "Epoch [10/20],                     Step [60/80],                     Loss: 0.0617\n",
      "Epoch [10/20],                     Step [70/80],                     Loss: 0.0492\n",
      "Epoch [10/20],                     Step [80/80],                     Loss: 0.0476\n",
      "Epoch [11/20],                     Step [10/80],                     Loss: 0.0460\n",
      "Epoch [11/20],                     Step [20/80],                     Loss: 0.0438\n",
      "Epoch [11/20],                     Step [30/80],                     Loss: 0.0414\n",
      "Epoch [11/20],                     Step [40/80],                     Loss: 0.0472\n",
      "Epoch [11/20],                     Step [50/80],                     Loss: 0.0563\n",
      "Epoch [11/20],                     Step [60/80],                     Loss: 0.0376\n",
      "Epoch [11/20],                     Step [70/80],                     Loss: 0.0535\n",
      "Epoch [11/20],                     Step [80/80],                     Loss: 0.0368\n",
      "Epoch [12/20],                     Step [10/80],                     Loss: 0.0304\n",
      "Epoch [12/20],                     Step [20/80],                     Loss: 0.0424\n",
      "Epoch [12/20],                     Step [30/80],                     Loss: 0.0293\n",
      "Epoch [12/20],                     Step [40/80],                     Loss: 0.0369\n",
      "Epoch [12/20],                     Step [50/80],                     Loss: 0.0351\n",
      "Epoch [12/20],                     Step [60/80],                     Loss: 0.0300\n",
      "Epoch [12/20],                     Step [70/80],                     Loss: 0.0375\n",
      "Epoch [12/20],                     Step [80/80],                     Loss: 0.0446\n",
      "Epoch [13/20],                     Step [10/80],                     Loss: 0.0354\n",
      "Epoch [13/20],                     Step [20/80],                     Loss: 0.0300\n",
      "Epoch [13/20],                     Step [30/80],                     Loss: 0.0318\n",
      "Epoch [13/20],                     Step [40/80],                     Loss: 0.0322\n",
      "Epoch [13/20],                     Step [50/80],                     Loss: 0.0276\n",
      "Epoch [13/20],                     Step [60/80],                     Loss: 0.0256\n",
      "Epoch [13/20],                     Step [70/80],                     Loss: 0.0376\n",
      "Epoch [13/20],                     Step [80/80],                     Loss: 0.0338\n",
      "Epoch [14/20],                     Step [10/80],                     Loss: 0.0321\n",
      "Epoch [14/20],                     Step [20/80],                     Loss: 0.0278\n",
      "Epoch [14/20],                     Step [30/80],                     Loss: 0.0373\n",
      "Epoch [14/20],                     Step [40/80],                     Loss: 0.0236\n",
      "Epoch [14/20],                     Step [50/80],                     Loss: 0.0239\n",
      "Epoch [14/20],                     Step [60/80],                     Loss: 0.0215\n",
      "Epoch [14/20],                     Step [70/80],                     Loss: 0.0219\n",
      "Epoch [14/20],                     Step [80/80],                     Loss: 0.0266\n",
      "Epoch [15/20],                     Step [10/80],                     Loss: 0.0248\n",
      "Epoch [15/20],                     Step [20/80],                     Loss: 0.0214\n",
      "Epoch [15/20],                     Step [30/80],                     Loss: 0.0219\n",
      "Epoch [15/20],                     Step [40/80],                     Loss: 0.0225\n",
      "Epoch [15/20],                     Step [50/80],                     Loss: 0.0185\n",
      "Epoch [15/20],                     Step [60/80],                     Loss: 0.0316\n",
      "Epoch [15/20],                     Step [70/80],                     Loss: 0.0205\n",
      "Epoch [15/20],                     Step [80/80],                     Loss: 0.0177\n",
      "Epoch [16/20],                     Step [10/80],                     Loss: 0.0263\n",
      "Epoch [16/20],                     Step [20/80],                     Loss: 0.0257\n",
      "Epoch [16/20],                     Step [30/80],                     Loss: 0.0194\n",
      "Epoch [16/20],                     Step [40/80],                     Loss: 0.0179\n",
      "Epoch [16/20],                     Step [50/80],                     Loss: 0.0237\n",
      "Epoch [16/20],                     Step [60/80],                     Loss: 0.0216\n",
      "Epoch [16/20],                     Step [70/80],                     Loss: 0.0191\n",
      "Epoch [16/20],                     Step [80/80],                     Loss: 0.0193\n",
      "Epoch [17/20],                     Step [10/80],                     Loss: 0.0191\n",
      "Epoch [17/20],                     Step [20/80],                     Loss: 0.0237\n",
      "Epoch [17/20],                     Step [30/80],                     Loss: 0.0221\n",
      "Epoch [17/20],                     Step [40/80],                     Loss: 0.0175\n",
      "Epoch [17/20],                     Step [50/80],                     Loss: 0.0223\n",
      "Epoch [17/20],                     Step [60/80],                     Loss: 0.0174\n",
      "Epoch [17/20],                     Step [70/80],                     Loss: 0.0150\n",
      "Epoch [17/20],                     Step [80/80],                     Loss: 0.0202\n",
      "Epoch [18/20],                     Step [10/80],                     Loss: 0.0178\n",
      "Epoch [18/20],                     Step [20/80],                     Loss: 0.0195\n",
      "Epoch [18/20],                     Step [30/80],                     Loss: 0.0161\n",
      "Epoch [18/20],                     Step [40/80],                     Loss: 0.0157\n",
      "Epoch [18/20],                     Step [50/80],                     Loss: 0.0110\n",
      "Epoch [18/20],                     Step [60/80],                     Loss: 0.0155\n",
      "Epoch [18/20],                     Step [70/80],                     Loss: 0.0169\n",
      "Epoch [18/20],                     Step [80/80],                     Loss: 0.0129\n",
      "Epoch [19/20],                     Step [10/80],                     Loss: 0.0127\n",
      "Epoch [19/20],                     Step [20/80],                     Loss: 0.0166\n",
      "Epoch [19/20],                     Step [30/80],                     Loss: 0.0121\n",
      "Epoch [19/20],                     Step [40/80],                     Loss: 0.0140\n",
      "Epoch [19/20],                     Step [50/80],                     Loss: 0.0134\n",
      "Epoch [19/20],                     Step [60/80],                     Loss: 0.0144\n",
      "Epoch [19/20],                     Step [70/80],                     Loss: 0.0158\n",
      "Epoch [19/20],                     Step [80/80],                     Loss: 0.0160\n",
      "Epoch [20/20],                     Step [10/80],                     Loss: 0.0113\n",
      "Epoch [20/20],                     Step [20/80],                     Loss: 0.0168\n",
      "Epoch [20/20],                     Step [30/80],                     Loss: 0.0117\n",
      "Epoch [20/20],                     Step [40/80],                     Loss: 0.0152\n",
      "Epoch [20/20],                     Step [50/80],                     Loss: 0.0108\n",
      "Epoch [20/20],                     Step [60/80],                     Loss: 0.0142\n",
      "Epoch [20/20],                     Step [70/80],                     Loss: 0.0129\n",
      "Epoch [20/20],                     Step [80/80],                     Loss: 0.0113\n"
     ]
    }
   ],
   "source": [
    "# 訓練模型\n",
    "total_step = len(train_loader)  #  1 epoch = 800/batch = 40\n",
    "loss_list =[]\n",
    "for epoch in range(num_epochs):\n",
    "    loss = 0\n",
    "    for i, (images, labels) in enumerate(train_loader):\n",
    "\n",
    "        images = images.to(device)\n",
    "        labels = labels.to(device)\n",
    "\n",
    "        # 前向傳播\n",
    "        outputs = model(images)\n",
    "        loss = criterion(outputs, labels)\n",
    "\n",
    "        # 反向傳播和優化\n",
    "        optimizer.zero_grad()\n",
    "        loss.backward()\n",
    "        optimizer.step()\n",
    "\n",
    "        if (i+1) % 10 == 0:\n",
    "            print(f'Epoch [{epoch+1}/{num_epochs}], \\\n",
    "                    Step [{i+1}/{total_step}], \\\n",
    "                    Loss: {loss.item():.4f}')\n",
    "    loss_list.append(loss.item())\n",
    "\n"
   ]
  },
  {
   "cell_type": "code",
   "execution_count": 48,
   "metadata": {
    "ExecuteTime": {
     "end_time": "2023-05-10T07:21:16.690613300Z",
     "start_time": "2023-05-10T07:21:16.546444900Z"
    }
   },
   "outputs": [
    {
     "data": {
      "text/plain": "<Figure size 640x480 with 1 Axes>",
      "image/png": "[encoded data removed]"
     },
     "metadata": {},
     "output_type": "display_data"
    },
    {
     "name": "stdout",
     "output_type": "stream",
     "text": [
      "Accuracy of the model on the test images: 99.5 %\n",
      "total:200 ,\tcorrect:199\n"
     ]
    }
   ],
   "source": [
    "# 測試模型\n",
    "\n",
    "label_dict = train_dataset.class_to_idx\n",
    "reverse_label_dict = {v: k for k, v in label_dict.items()}\n",
    "\n",
    "# 導入 Matplotlib 庫\n",
    "from matplotlib import pyplot as plt\n",
    "\n",
    "# 繪製訓練過程中的損失(loss)值變化圖\n",
    "plt.plot(loss_list)\n",
    "plt.title('Train Loss')\n",
    "plt.show()\n",
    "\n",
    "# 設置模型為評估模式\n",
    "model.eval()\n",
    "\n",
    "# 在不計算梯度的情況下測試模型\n",
    "with torch.no_grad():\n",
    "    # 初始化準確率計數器\n",
    "    correct = 0\n",
    "    total = 0\n",
    "    error = []\n",
    "    # 循環處理測試集中的每一個樣本\n",
    "    for images, labels in test_loader:\n",
    "        # 將樣本數據和標籤移到 GPU 上進行計算\n",
    "        images = images.to(device)\n",
    "        labels = labels.to(device)\n",
    "        # 通過神經網絡進行預測\n",
    "        outputs = model(images)\n",
    "        # 找到每個樣本的最大值及其對應的索引，即預測類別\n",
    "        _, predicted = torch.max(outputs.data, 1)\n",
    "        # 統計正確預測的數量\n",
    "        total += labels.size(0)\n",
    "        correct += (predicted == labels).sum().item()\n",
    "        # 判斷預測值和實際標籤是否一致，如果不一致就把它們添加到錯誤列表中\n",
    "\n",
    "    # 計算並輸出準確率\n",
    "    print('Accuracy of the model on the test images: {} %'.format(100 * correct / total))\n",
    "    print(f'total:{total} ,\\tcorrect:{correct}')\n",
    "\n",
    "\n"
   ]
  },
  {
   "cell_type": "markdown",
   "metadata": {},
   "source": [
    "# 儲存模型"
   ]
  },
  {
   "cell_type": "code",
   "execution_count": 49,
   "metadata": {
    "ExecuteTime": {
     "end_time": "2023-05-10T07:21:16.741328600Z",
     "start_time": "2023-05-10T07:21:16.692613700Z"
    }
   },
   "outputs": [],
   "source": [
    "# 只儲存權重\n",
    "torch.save(model.state_dict(), '50on_model.ckpt')\n",
    "# 儲存整個模型和權重\n",
    "torch.save(model, '50on_model_all.pt')\n",
    "\n"
   ]
  },
  {
   "cell_type": "markdown",
   "metadata": {},
   "source": [
    "# 載入模型"
   ]
  },
  {
   "cell_type": "code",
   "execution_count": 50,
   "metadata": {
    "ExecuteTime": {
     "end_time": "2023-05-10T07:21:16.749385300Z",
     "start_time": "2023-05-10T07:21:16.706466500Z"
    }
   },
   "outputs": [
    {
     "data": {
      "text/plain": "<PIL.JpegImagePlugin.JpegImageFile image mode=RGB size=83x84>",
      "image/png": "[encoded data removed]"
     },
     "metadata": {},
     "output_type": "display_data"
    },
    {
     "name": "stdout",
     "output_type": "stream",
     "text": [
      "預測結果:kanaHE\n"
     ]
    }
   ],
   "source": [
    "import torch\n",
    "from torchvision import transforms\n",
    "import torchvision.models as models\n",
    "from PIL import Image\n",
    "\n",
    "# 定義圖片轉換\n",
    "test_transform = transforms.Compose([\n",
    "    transforms.Resize((32, 32)),  # 調整大小為 32x32\n",
    "    transforms.Grayscale(num_output_channels=1),  # 轉為單通道灰度圖像\n",
    "    transforms.ToTensor(),  # 轉為張量\n",
    "    transforms.Normalize((0.5,), (0.5,))  # 歸一化\n",
    "])\n",
    "# 載入圖片\n",
    "img = Image.open('./test_images/HE.jpg')\n",
    "display(img)\n",
    "img = test_transform(img).to(device)\n",
    "# 增加一維，batch大小設為 1\n",
    "img = img.unsqueeze(0)\n",
    "\n",
    "\n",
    "# 載入模型\n",
    "model = torch.load('50on_model_all.pt')\n",
    "# 設置模型為評估模式\n",
    "model.eval().to(device)\n",
    "\n",
    "\n",
    "# 使用模型進行預測\n",
    "with torch.no_grad():\n",
    "    output = model(img)\n",
    "\n",
    "# 取得預測結果\n",
    "_, preds = torch.max(output, 1)\n",
    "label_dict = train_dataset.class_to_idx\n",
    "reverse_label_dict = {v: k for k, v in label_dict.items()}\n",
    "print(f'預測結果:{reverse_label_dict[preds.item()]}')"
   ]
  }
 ],
 "metadata": {
  "kernelspec": {
   "display_name": "Python 3 (ipykernel)",
   "language": "python",
   "name": "python3"
  },
  "language_info": {
   "codemirror_mode": {
    "name": "ipython",
    "version": 3
   },
   "file_extension": ".py",
   "mimetype": "text/x-python",
   "name": "python",
   "nbconvert_exporter": "python",
   "pygments_lexer": "ipython3",
   "version": "3.11.3"
  }
 },
 "nbformat": 4,
 "nbformat_minor": 1
}
