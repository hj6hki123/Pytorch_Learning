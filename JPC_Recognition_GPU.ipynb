{
 "cells": [
  {
   "attachments": {},
   "cell_type": "markdown",
   "metadata": {
    "collapsed": false
   },
   "source": [
    "# 圖片分類"
   ]
  },
  {
   "cell_type": "code",
   "execution_count": 243,
   "metadata": {
    "collapsed": false,
    "ExecuteTime": {
     "end_time": "2023-05-09T10:45:52.850079800Z",
     "start_time": "2023-05-09T10:45:51.807839300Z"
    }
   },
   "outputs": [],
   "source": [
    "import os\n",
    "import shutil\n",
    "# 遍歷資料夾中的檔案\n",
    "for filename in os.listdir('./hiragana_images'):\n",
    "    # 判斷檔案是否為 jpg 檔\n",
    "    if filename.endswith('.jpg'):\n",
    "        # 取得檔名中的非數字字元\n",
    "        class_name = os.path.splitext(''.join(filter(lambda x: not x.isdigit(), filename)))[0]\n",
    "        # 建立目標資料夾\n",
    "        target_folder = os.path.join('./my_images', class_name)\n",
    "        if not os.path.exists(target_folder):\n",
    "            os.mkdir(target_folder)\n",
    "        # 複製檔案到對應的資料夾中\n",
    "        shutil.copy(os.path.join('./hiragana_images', filename), os.path.join(target_folder, filename))\n"
   ]
  },
  {
   "attachments": {},
   "cell_type": "markdown",
   "metadata": {
    "collapsed": false
   },
   "source": [
    "# 模型訓練"
   ]
  },
  {
   "cell_type": "code",
   "execution_count": 244,
   "metadata": {
    "collapsed": false,
    "ExecuteTime": {
     "end_time": "2023-05-09T10:45:52.853508600Z",
     "start_time": "2023-05-09T10:45:52.851087500Z"
    }
   },
   "outputs": [],
   "source": [
    "import torch\n",
    "import torch.nn as nn\n",
    "import torch.optim as optim\n",
    "import torchvision.datasets as datasets\n",
    "import torchvision.transforms as transforms\n",
    "from torch.utils.data import DataLoader\n",
    "from sklearn.model_selection import train_test_split"
   ]
  },
  {
   "cell_type": "code",
   "execution_count": 245,
   "outputs": [
    {
     "data": {
      "text/plain": "device(type='cuda')"
     },
     "execution_count": 245,
     "metadata": {},
     "output_type": "execute_result"
    }
   ],
   "source": [
    "# 檢查是否有 GPU\n",
    "device = torch.device(\"cuda\" if torch.cuda.is_available() else \"cpu\")\n",
    "device"
   ],
   "metadata": {
    "collapsed": false,
    "ExecuteTime": {
     "end_time": "2023-05-09T10:45:52.858135300Z",
     "start_time": "2023-05-09T10:45:52.854510500Z"
    }
   }
  },
  {
   "cell_type": "code",
   "execution_count": 246,
   "metadata": {
    "collapsed": false,
    "ExecuteTime": {
     "end_time": "2023-05-09T10:45:52.866329700Z",
     "start_time": "2023-05-09T10:45:52.860730700Z"
    }
   },
   "outputs": [],
   "source": [
    "# 超參數\n",
    "\n",
    "num_classes = 50  # 50音分類\n",
    "batch_size = 10  #訓練樣本數\n",
    "num_epochs = 25  #一期訓練  Iteration = （Data set size / Batch size）* Epoch = (1000/20)*10 = 5000\n",
    "learning_rate = 0.001 #學習率"
   ]
  },
  {
   "cell_type": "code",
   "execution_count": 247,
   "metadata": {
    "collapsed": false,
    "ExecuteTime": {
     "end_time": "2023-05-09T10:45:52.866329700Z",
     "start_time": "2023-05-09T10:45:52.863246300Z"
    }
   },
   "outputs": [],
   "source": [
    "# 數據預處理\n",
    "transform = transforms.Compose([\n",
    "    transforms.Resize((32, 32)),  # 調整大小為 32x32\n",
    "    transforms.Grayscale(num_output_channels=1),  # 轉為單通道灰度圖像\n",
    "    transforms.ToTensor()  # 轉為張量\n",
    "])"
   ]
  },
  {
   "cell_type": "code",
   "execution_count": 248,
   "outputs": [],
   "source": [
    "# 載入數據 並將數據分配測試集和訓練集 8:2\n",
    "train_dataset = datasets.ImageFolder(root='./my_images', transform=transform) # datasets.ImageFolder 會將資料夾中的圖片依照資料夾名稱分類\n",
    "train_data, test_data = train_test_split(train_dataset, test_size=0.2, random_state=42) #train_test_split 會將資料分成兩部分，一部分用來訓練，一部分用來測試\n",
    "#訓練集\n",
    "train_loader = DataLoader(train_data, batch_size=batch_size, shuffle=True)  #每次訓練數量 = Data set size(*0.8) / Batch size = 800/20 = 40\n",
    "#測試集\n",
    "test_loader = DataLoader(test_data, batch_size=batch_size, shuffle=False)\n",
    "\n",
    "# # 載入數據\n",
    "# train_dataset = datasets.ImageFolder(root='F:\\pycharm_pro\\pytorch_learn\\my_images', transform=transform)\n",
    "# train_loader = DataLoader(train_dataset, batch_size=batch_size, shuffle=True)\n"
   ],
   "metadata": {
    "collapsed": false,
    "ExecuteTime": {
     "end_time": "2023-05-09T10:45:53.380560900Z",
     "start_time": "2023-05-09T10:45:52.868327200Z"
    }
   }
  },
  {
   "cell_type": "markdown",
   "source": [
    "卷積層尺寸變化 =\n",
    "$$\n",
    "W_{new} = {W_{o} - Kernelsize + (2 \\times Padding) \\over Stride} +1\n",
    "$$"
   ],
   "metadata": {
    "collapsed": false
   }
  },
  {
   "cell_type": "code",
   "execution_count": 249,
   "outputs": [],
   "source": [
    "# 定義模型\n",
    "class Net(nn.Module):\n",
    "    def __init__(self):\n",
    "        super(Net, self).__init__()\n",
    "        self.layer1 = nn.Sequential(  # <-- (1,32,32)\n",
    "            nn.Conv2d(1, 16, kernel_size=3, padding=1), #--> (32,32,32)\n",
    "            nn.BatchNorm2d(16),\n",
    "            nn.ReLU(),\n",
    "            nn.MaxPool2d(kernel_size=2, stride=2)) #--> (16,16,16)\n",
    "        self.layer2 = nn.Sequential(\n",
    "            nn.Conv2d(16, 32, kernel_size=3, padding=1),#--> (32,16,16)\n",
    "            nn.BatchNorm2d(32),\n",
    "            nn.ReLU(),\n",
    "            nn.MaxPool2d(kernel_size=2, stride=2)) #--> (32,8,8)\n",
    "        self.layer3 = nn.Sequential(\n",
    "            nn.Conv2d(32, 64, kernel_size=3, padding=1),#--> (64,8,8)\n",
    "            nn.BatchNorm2d(64),\n",
    "            nn.ReLU(),\n",
    "            nn.MaxPool2d(kernel_size=2, stride=2))#--> (64,4,4)\n",
    "        self.fc1 = nn.Sequential(\n",
    "            nn.Linear(4*4*64, 256), #--> (256)\n",
    "            nn.Dropout(0.2),\n",
    "            nn.Sigmoid(),\n",
    "        )\n",
    "        self.fc2 = nn.Linear(256,num_classes)\n",
    "\n",
    "    def forward(self, x):\n",
    "        out = self.layer1(x)\n",
    "        out = self.layer2(out)\n",
    "        out = self.layer3(out)\n",
    "        out = out.view(out.size(0), -1)\n",
    "        out = self.fc1(out)\n",
    "        out = self.fc2(out)\n",
    "        return out\n"
   ],
   "metadata": {
    "collapsed": false,
    "ExecuteTime": {
     "end_time": "2023-05-09T10:45:53.386768700Z",
     "start_time": "2023-05-09T10:45:53.381562Z"
    }
   }
  },
  {
   "cell_type": "code",
   "execution_count": 250,
   "outputs": [],
   "source": [
    "# 定義模型\n",
    "class Net(nn.Module):\n",
    "    def __init__(self):\n",
    "        super(Net, self).__init__()\n",
    "\n",
    "        self.fc1 = nn.Sequential(\n",
    "            nn.Linear(32*32, 512),\n",
    "            nn.ReLU()\n",
    "        )\n",
    "        self.fc2 = nn.Sequential(\n",
    "            nn.Linear(512, 256),\n",
    "            nn.ReLU()\n",
    "        )\n",
    "        self.fc3 = nn.Sequential(\n",
    "            nn.Linear(256, 128),\n",
    "            nn.ReLU(),\n",
    "        )\n",
    "        self.fc4 = nn.Linear(128,num_classes)\n",
    "\n",
    "    def forward(self, x):\n",
    "        out = x.view(x.size(0), -1)\n",
    "        out = self.fc1(out)\n",
    "        out = self.fc2(out)\n",
    "        out = self.fc3(out)\n",
    "        out = self.fc4(out)\n",
    "        return out"
   ],
   "metadata": {
    "collapsed": false,
    "ExecuteTime": {
     "end_time": "2023-05-09T10:45:53.392183700Z",
     "start_time": "2023-05-09T10:45:53.389772200Z"
    }
   }
  },
  {
   "cell_type": "code",
   "execution_count": 251,
   "outputs": [
    {
     "name": "stdout",
     "output_type": "stream",
     "text": [
      "----------------------------------------------------------------\n",
      "        Layer (type)               Output Shape         Param #\n",
      "================================================================\n",
      "            Linear-1                  [-1, 512]         524,800\n",
      "              ReLU-2                  [-1, 512]               0\n",
      "            Linear-3                  [-1, 256]         131,328\n",
      "              ReLU-4                  [-1, 256]               0\n",
      "            Linear-5                  [-1, 128]          32,896\n",
      "              ReLU-6                  [-1, 128]               0\n",
      "            Linear-7                   [-1, 50]           6,450\n",
      "================================================================\n",
      "Total params: 695,474\n",
      "Trainable params: 695,474\n",
      "Non-trainable params: 0\n",
      "----------------------------------------------------------------\n",
      "Input size (MB): 0.00\n",
      "Forward/backward pass size (MB): 0.01\n",
      "Params size (MB): 2.65\n",
      "Estimated Total Size (MB): 2.67\n",
      "----------------------------------------------------------------\n"
     ]
    }
   ],
   "source": [
    "# 實例化模型、損失函數和優化器\n",
    "model = Net().to(device)\n",
    "criterion = nn.CrossEntropyLoss().to(device)\n",
    "optimizer = optim.Adam(model.parameters(), lr=learning_rate)\n",
    "\n",
    "#可視化模型\n",
    "from torchsummary import summary\n",
    "summary(model, input_size=(1, 32, 32), device=device.type)"
   ],
   "metadata": {
    "collapsed": false,
    "ExecuteTime": {
     "end_time": "2023-05-09T10:45:53.402617900Z",
     "start_time": "2023-05-09T10:45:53.394184300Z"
    }
   }
  },
  {
   "cell_type": "code",
   "execution_count": 252,
   "metadata": {
    "collapsed": false,
    "ExecuteTime": {
     "end_time": "2023-05-09T10:45:57.126139100Z",
     "start_time": "2023-05-09T10:45:53.407144100Z"
    }
   },
   "outputs": [
    {
     "name": "stdout",
     "output_type": "stream",
     "text": [
      "Epoch [1/25],                     Step [10/80],                     Loss: 3.9190\n",
      "Epoch [1/25],                     Step [20/80],                     Loss: 3.8638\n",
      "Epoch [1/25],                     Step [30/80],                     Loss: 3.8936\n",
      "Epoch [1/25],                     Step [40/80],                     Loss: 3.7260\n",
      "Epoch [1/25],                     Step [50/80],                     Loss: 3.1218\n",
      "Epoch [1/25],                     Step [60/80],                     Loss: 3.2192\n",
      "Epoch [1/25],                     Step [70/80],                     Loss: 3.1886\n",
      "Epoch [1/25],                     Step [80/80],                     Loss: 3.0809\n",
      "Epoch [2/25],                     Step [10/80],                     Loss: 2.6567\n",
      "Epoch [2/25],                     Step [20/80],                     Loss: 2.3409\n",
      "Epoch [2/25],                     Step [30/80],                     Loss: 1.5625\n",
      "Epoch [2/25],                     Step [40/80],                     Loss: 1.6121\n",
      "Epoch [2/25],                     Step [50/80],                     Loss: 1.1041\n",
      "Epoch [2/25],                     Step [60/80],                     Loss: 1.0218\n",
      "Epoch [2/25],                     Step [70/80],                     Loss: 2.0718\n",
      "Epoch [2/25],                     Step [80/80],                     Loss: 1.1582\n",
      "Epoch [3/25],                     Step [10/80],                     Loss: 0.9564\n",
      "Epoch [3/25],                     Step [20/80],                     Loss: 0.5701\n",
      "Epoch [3/25],                     Step [30/80],                     Loss: 0.5951\n",
      "Epoch [3/25],                     Step [40/80],                     Loss: 0.2637\n",
      "Epoch [3/25],                     Step [50/80],                     Loss: 0.5048\n",
      "Epoch [3/25],                     Step [60/80],                     Loss: 0.8926\n",
      "Epoch [3/25],                     Step [70/80],                     Loss: 1.1116\n",
      "Epoch [3/25],                     Step [80/80],                     Loss: 0.5999\n",
      "Epoch [4/25],                     Step [10/80],                     Loss: 0.2659\n",
      "Epoch [4/25],                     Step [20/80],                     Loss: 0.1600\n",
      "Epoch [4/25],                     Step [30/80],                     Loss: 0.4722\n",
      "Epoch [4/25],                     Step [40/80],                     Loss: 0.0455\n",
      "Epoch [4/25],                     Step [50/80],                     Loss: 0.2131\n",
      "Epoch [4/25],                     Step [60/80],                     Loss: 0.2216\n",
      "Epoch [4/25],                     Step [70/80],                     Loss: 0.1735\n",
      "Epoch [4/25],                     Step [80/80],                     Loss: 0.4093\n",
      "Epoch [5/25],                     Step [10/80],                     Loss: 0.1783\n",
      "Epoch [5/25],                     Step [20/80],                     Loss: 0.0552\n",
      "Epoch [5/25],                     Step [30/80],                     Loss: 0.0363\n",
      "Epoch [5/25],                     Step [40/80],                     Loss: 0.0465\n",
      "Epoch [5/25],                     Step [50/80],                     Loss: 0.0582\n",
      "Epoch [5/25],                     Step [60/80],                     Loss: 0.3799\n",
      "Epoch [5/25],                     Step [70/80],                     Loss: 0.0282\n",
      "Epoch [5/25],                     Step [80/80],                     Loss: 0.0480\n",
      "Epoch [6/25],                     Step [10/80],                     Loss: 0.2908\n",
      "Epoch [6/25],                     Step [20/80],                     Loss: 0.0705\n",
      "Epoch [6/25],                     Step [30/80],                     Loss: 0.0070\n",
      "Epoch [6/25],                     Step [40/80],                     Loss: 0.0390\n",
      "Epoch [6/25],                     Step [50/80],                     Loss: 0.1363\n",
      "Epoch [6/25],                     Step [60/80],                     Loss: 0.1518\n",
      "Epoch [6/25],                     Step [70/80],                     Loss: 0.0795\n",
      "Epoch [6/25],                     Step [80/80],                     Loss: 0.0394\n",
      "Epoch [7/25],                     Step [10/80],                     Loss: 0.1128\n",
      "Epoch [7/25],                     Step [20/80],                     Loss: 0.0313\n",
      "Epoch [7/25],                     Step [30/80],                     Loss: 0.2042\n",
      "Epoch [7/25],                     Step [40/80],                     Loss: 0.1035\n",
      "Epoch [7/25],                     Step [50/80],                     Loss: 0.0275\n",
      "Epoch [7/25],                     Step [60/80],                     Loss: 0.0568\n",
      "Epoch [7/25],                     Step [70/80],                     Loss: 0.0082\n",
      "Epoch [7/25],                     Step [80/80],                     Loss: 0.1049\n",
      "Epoch [8/25],                     Step [10/80],                     Loss: 0.0384\n",
      "Epoch [8/25],                     Step [20/80],                     Loss: 0.0414\n",
      "Epoch [8/25],                     Step [30/80],                     Loss: 0.1074\n",
      "Epoch [8/25],                     Step [40/80],                     Loss: 0.0126\n",
      "Epoch [8/25],                     Step [50/80],                     Loss: 0.0314\n",
      "Epoch [8/25],                     Step [60/80],                     Loss: 0.0017\n",
      "Epoch [8/25],                     Step [70/80],                     Loss: 0.0108\n",
      "Epoch [8/25],                     Step [80/80],                     Loss: 0.0097\n",
      "Epoch [9/25],                     Step [10/80],                     Loss: 0.0449\n",
      "Epoch [9/25],                     Step [20/80],                     Loss: 0.2093\n",
      "Epoch [9/25],                     Step [30/80],                     Loss: 0.0218\n",
      "Epoch [9/25],                     Step [40/80],                     Loss: 0.0236\n",
      "Epoch [9/25],                     Step [50/80],                     Loss: 0.4504\n",
      "Epoch [9/25],                     Step [60/80],                     Loss: 0.0475\n",
      "Epoch [9/25],                     Step [70/80],                     Loss: 0.3151\n",
      "Epoch [9/25],                     Step [80/80],                     Loss: 0.0575\n",
      "Epoch [10/25],                     Step [10/80],                     Loss: 0.0267\n",
      "Epoch [10/25],                     Step [20/80],                     Loss: 0.0702\n",
      "Epoch [10/25],                     Step [30/80],                     Loss: 0.0273\n",
      "Epoch [10/25],                     Step [40/80],                     Loss: 0.0263\n",
      "Epoch [10/25],                     Step [50/80],                     Loss: 0.0211\n",
      "Epoch [10/25],                     Step [60/80],                     Loss: 0.0034\n",
      "Epoch [10/25],                     Step [70/80],                     Loss: 0.0164\n",
      "Epoch [10/25],                     Step [80/80],                     Loss: 0.0534\n",
      "Epoch [11/25],                     Step [10/80],                     Loss: 0.0017\n",
      "Epoch [11/25],                     Step [20/80],                     Loss: 0.0111\n",
      "Epoch [11/25],                     Step [30/80],                     Loss: 0.0069\n",
      "Epoch [11/25],                     Step [40/80],                     Loss: 0.0032\n",
      "Epoch [11/25],                     Step [50/80],                     Loss: 0.0012\n",
      "Epoch [11/25],                     Step [60/80],                     Loss: 0.0060\n",
      "Epoch [11/25],                     Step [70/80],                     Loss: 0.0013\n",
      "Epoch [11/25],                     Step [80/80],                     Loss: 0.0026\n",
      "Epoch [12/25],                     Step [10/80],                     Loss: 0.0061\n",
      "Epoch [12/25],                     Step [20/80],                     Loss: 0.0017\n",
      "Epoch [12/25],                     Step [30/80],                     Loss: 0.0020\n",
      "Epoch [12/25],                     Step [40/80],                     Loss: 0.0102\n",
      "Epoch [12/25],                     Step [50/80],                     Loss: 0.0003\n",
      "Epoch [12/25],                     Step [60/80],                     Loss: 0.0060\n",
      "Epoch [12/25],                     Step [70/80],                     Loss: 0.0052\n",
      "Epoch [12/25],                     Step [80/80],                     Loss: 0.0009\n",
      "Epoch [13/25],                     Step [10/80],                     Loss: 0.0053\n",
      "Epoch [13/25],                     Step [20/80],                     Loss: 0.0007\n",
      "Epoch [13/25],                     Step [30/80],                     Loss: 0.0049\n",
      "Epoch [13/25],                     Step [40/80],                     Loss: 0.0005\n",
      "Epoch [13/25],                     Step [50/80],                     Loss: 0.0018\n",
      "Epoch [13/25],                     Step [60/80],                     Loss: 0.0011\n",
      "Epoch [13/25],                     Step [70/80],                     Loss: 0.0022\n",
      "Epoch [13/25],                     Step [80/80],                     Loss: 0.0051\n",
      "Epoch [14/25],                     Step [10/80],                     Loss: 0.0002\n",
      "Epoch [14/25],                     Step [20/80],                     Loss: 0.0013\n",
      "Epoch [14/25],                     Step [30/80],                     Loss: 0.0005\n",
      "Epoch [14/25],                     Step [40/80],                     Loss: 0.0013\n",
      "Epoch [14/25],                     Step [50/80],                     Loss: 0.0027\n",
      "Epoch [14/25],                     Step [60/80],                     Loss: 0.0009\n",
      "Epoch [14/25],                     Step [70/80],                     Loss: 0.0026\n",
      "Epoch [14/25],                     Step [80/80],                     Loss: 0.0017\n",
      "Epoch [15/25],                     Step [10/80],                     Loss: 0.0011\n",
      "Epoch [15/25],                     Step [20/80],                     Loss: 0.0020\n",
      "Epoch [15/25],                     Step [30/80],                     Loss: 0.0016\n",
      "Epoch [15/25],                     Step [40/80],                     Loss: 0.0009\n",
      "Epoch [15/25],                     Step [50/80],                     Loss: 0.0001\n",
      "Epoch [15/25],                     Step [60/80],                     Loss: 0.0012\n",
      "Epoch [15/25],                     Step [70/80],                     Loss: 0.0003\n",
      "Epoch [15/25],                     Step [80/80],                     Loss: 0.0044\n",
      "Epoch [16/25],                     Step [10/80],                     Loss: 0.0008\n",
      "Epoch [16/25],                     Step [20/80],                     Loss: 0.0004\n",
      "Epoch [16/25],                     Step [30/80],                     Loss: 0.0010\n",
      "Epoch [16/25],                     Step [40/80],                     Loss: 0.0007\n",
      "Epoch [16/25],                     Step [50/80],                     Loss: 0.0011\n",
      "Epoch [16/25],                     Step [60/80],                     Loss: 0.0004\n",
      "Epoch [16/25],                     Step [70/80],                     Loss: 0.0010\n",
      "Epoch [16/25],                     Step [80/80],                     Loss: 0.0009\n",
      "Epoch [17/25],                     Step [10/80],                     Loss: 0.0009\n",
      "Epoch [17/25],                     Step [20/80],                     Loss: 0.0007\n",
      "Epoch [17/25],                     Step [30/80],                     Loss: 0.0004\n",
      "Epoch [17/25],                     Step [40/80],                     Loss: 0.0002\n",
      "Epoch [17/25],                     Step [50/80],                     Loss: 0.0001\n",
      "Epoch [17/25],                     Step [60/80],                     Loss: 0.0036\n",
      "Epoch [17/25],                     Step [70/80],                     Loss: 0.0006\n",
      "Epoch [17/25],                     Step [80/80],                     Loss: 0.0006\n",
      "Epoch [18/25],                     Step [10/80],                     Loss: 0.0004\n",
      "Epoch [18/25],                     Step [20/80],                     Loss: 0.0003\n",
      "Epoch [18/25],                     Step [30/80],                     Loss: 0.0004\n",
      "Epoch [18/25],                     Step [40/80],                     Loss: 0.0009\n",
      "Epoch [18/25],                     Step [50/80],                     Loss: 0.0001\n",
      "Epoch [18/25],                     Step [60/80],                     Loss: 0.0010\n",
      "Epoch [18/25],                     Step [70/80],                     Loss: 0.0006\n",
      "Epoch [18/25],                     Step [80/80],                     Loss: 0.0013\n",
      "Epoch [19/25],                     Step [10/80],                     Loss: 0.0006\n",
      "Epoch [19/25],                     Step [20/80],                     Loss: 0.0013\n",
      "Epoch [19/25],                     Step [30/80],                     Loss: 0.0005\n",
      "Epoch [19/25],                     Step [40/80],                     Loss: 0.0002\n",
      "Epoch [19/25],                     Step [50/80],                     Loss: 0.0003\n",
      "Epoch [19/25],                     Step [60/80],                     Loss: 0.0001\n",
      "Epoch [19/25],                     Step [70/80],                     Loss: 0.0003\n",
      "Epoch [19/25],                     Step [80/80],                     Loss: 0.0004\n",
      "Epoch [20/25],                     Step [10/80],                     Loss: 0.0003\n",
      "Epoch [20/25],                     Step [20/80],                     Loss: 0.0004\n",
      "Epoch [20/25],                     Step [30/80],                     Loss: 0.0010\n",
      "Epoch [20/25],                     Step [40/80],                     Loss: 0.0005\n",
      "Epoch [20/25],                     Step [50/80],                     Loss: 0.0004\n",
      "Epoch [20/25],                     Step [60/80],                     Loss: 0.0003\n",
      "Epoch [20/25],                     Step [70/80],                     Loss: 0.0007\n",
      "Epoch [20/25],                     Step [80/80],                     Loss: 0.0005\n",
      "Epoch [21/25],                     Step [10/80],                     Loss: 0.0002\n",
      "Epoch [21/25],                     Step [20/80],                     Loss: 0.0003\n",
      "Epoch [21/25],                     Step [30/80],                     Loss: 0.0001\n",
      "Epoch [21/25],                     Step [40/80],                     Loss: 0.0002\n",
      "Epoch [21/25],                     Step [50/80],                     Loss: 0.0002\n",
      "Epoch [21/25],                     Step [60/80],                     Loss: 0.0004\n",
      "Epoch [21/25],                     Step [70/80],                     Loss: 0.0002\n",
      "Epoch [21/25],                     Step [80/80],                     Loss: 0.0003\n",
      "Epoch [22/25],                     Step [10/80],                     Loss: 0.0004\n",
      "Epoch [22/25],                     Step [20/80],                     Loss: 0.0001\n",
      "Epoch [22/25],                     Step [30/80],                     Loss: 0.0003\n",
      "Epoch [22/25],                     Step [40/80],                     Loss: 0.0001\n",
      "Epoch [22/25],                     Step [50/80],                     Loss: 0.0005\n",
      "Epoch [22/25],                     Step [60/80],                     Loss: 0.0005\n",
      "Epoch [22/25],                     Step [70/80],                     Loss: 0.0002\n",
      "Epoch [22/25],                     Step [80/80],                     Loss: 0.0002\n",
      "Epoch [23/25],                     Step [10/80],                     Loss: 0.0001\n",
      "Epoch [23/25],                     Step [20/80],                     Loss: 0.0005\n",
      "Epoch [23/25],                     Step [30/80],                     Loss: 0.0004\n",
      "Epoch [23/25],                     Step [40/80],                     Loss: 0.0004\n",
      "Epoch [23/25],                     Step [50/80],                     Loss: 0.0002\n",
      "Epoch [23/25],                     Step [60/80],                     Loss: 0.0003\n",
      "Epoch [23/25],                     Step [70/80],                     Loss: 0.0002\n",
      "Epoch [23/25],                     Step [80/80],                     Loss: 0.0002\n",
      "Epoch [24/25],                     Step [10/80],                     Loss: 0.0005\n",
      "Epoch [24/25],                     Step [20/80],                     Loss: 0.0004\n",
      "Epoch [24/25],                     Step [30/80],                     Loss: 0.0005\n",
      "Epoch [24/25],                     Step [40/80],                     Loss: 0.0003\n",
      "Epoch [24/25],                     Step [50/80],                     Loss: 0.0002\n",
      "Epoch [24/25],                     Step [60/80],                     Loss: 0.0004\n",
      "Epoch [24/25],                     Step [70/80],                     Loss: 0.0003\n",
      "Epoch [24/25],                     Step [80/80],                     Loss: 0.0004\n",
      "Epoch [25/25],                     Step [10/80],                     Loss: 0.0001\n",
      "Epoch [25/25],                     Step [20/80],                     Loss: 0.0007\n",
      "Epoch [25/25],                     Step [30/80],                     Loss: 0.0004\n",
      "Epoch [25/25],                     Step [40/80],                     Loss: 0.0001\n",
      "Epoch [25/25],                     Step [50/80],                     Loss: 0.0003\n",
      "Epoch [25/25],                     Step [60/80],                     Loss: 0.0001\n",
      "Epoch [25/25],                     Step [70/80],                     Loss: 0.0002\n",
      "Epoch [25/25],                     Step [80/80],                     Loss: 0.0005\n"
     ]
    }
   ],
   "source": [
    "# 訓練模型\n",
    "total_step = len(train_loader)  #  1 epoch = 800/batch = 40\n",
    "loss_list =[]\n",
    "for epoch in range(num_epochs):\n",
    "    loss = 0\n",
    "    for i, (images, labels) in enumerate(train_loader):\n",
    "\n",
    "        images = images.to(device)\n",
    "        labels = labels.to(device)\n",
    "\n",
    "        # 前向傳播\n",
    "        outputs = model(images)\n",
    "        loss = criterion(outputs, labels)\n",
    "\n",
    "        # 反向傳播和優化\n",
    "        optimizer.zero_grad()\n",
    "        loss.backward()\n",
    "        optimizer.step()\n",
    "\n",
    "        if (i+1) % 10 == 0:\n",
    "            print(f'Epoch [{epoch+1}/{num_epochs}], \\\n",
    "                    Step [{i+1}/{total_step}], \\\n",
    "                    Loss: {loss.item():.4f}')\n",
    "    loss_list.append(loss.item())\n",
    "\n"
   ]
  },
  {
   "cell_type": "code",
   "execution_count": 253,
   "metadata": {
    "collapsed": false,
    "ExecuteTime": {
     "end_time": "2023-05-09T10:45:57.250145Z",
     "start_time": "2023-05-09T10:45:57.128138800Z"
    }
   },
   "outputs": [
    {
     "data": {
      "text/plain": "<Figure size 640x480 with 1 Axes>",
      "image/png": "[encoded data removed]"
     },
     "metadata": {},
     "output_type": "display_data"
    },
    {
     "name": "stdout",
     "output_type": "stream",
     "text": [
      "Accuracy of the model on the test images: 90.5 %\n"
     ]
    }
   ],
   "source": [
    "# 測試模型\n",
    "from matplotlib import pyplot as plt\n",
    "plt.plot(loss_list)\n",
    "plt.title('Loss')\n",
    "plt.show()\n",
    "\n",
    "\n",
    "model.eval()\n",
    "with torch.no_grad():\n",
    "    correct = 0\n",
    "    total = 0\n",
    "    for images, labels in test_loader:\n",
    "        images = images.to(device)\n",
    "        labels = labels.to(device)\n",
    "        outputs = model(images)\n",
    "        _, predicted = torch.max(outputs.data, 1)\n",
    "        total += labels.size(0)\n",
    "        correct += (predicted == labels).sum().item()\n",
    "    print('Accuracy of the model on the test images: {} %'.format(100 * correct / total))\n",
    "\n",
    "\n",
    "\n"
   ]
  },
  {
   "cell_type": "markdown",
   "source": [
    "# 儲存模型"
   ],
   "metadata": {
    "collapsed": false
   }
  },
  {
   "cell_type": "code",
   "execution_count": 254,
   "metadata": {
    "collapsed": false,
    "ExecuteTime": {
     "end_time": "2023-05-09T10:45:57.261605700Z",
     "start_time": "2023-05-09T10:45:57.251145700Z"
    }
   },
   "outputs": [],
   "source": [
    "# 只儲存權重\n",
    "torch.save(model.state_dict(), '50on_model.ckpt')\n",
    "# 儲存整個模型和權重\n",
    "torch.save(model, '50on_model_all.pt')\n",
    "\n"
   ]
  },
  {
   "cell_type": "markdown",
   "source": [
    "# 載入模型"
   ],
   "metadata": {
    "collapsed": false
   }
  },
  {
   "cell_type": "code",
   "execution_count": 255,
   "outputs": [
    {
     "data": {
      "text/plain": "<PIL.JpegImagePlugin.JpegImageFile image mode=RGB size=83x84>",
      "image/png": "[encoded data removed]"
     },
     "metadata": {},
     "output_type": "display_data"
    },
    {
     "name": "stdout",
     "output_type": "stream",
     "text": [
      "預測結果:kanaHE\n"
     ]
    }
   ],
   "source": [
    "import torch\n",
    "from torchvision import transforms\n",
    "import torchvision.models as models\n",
    "from PIL import Image\n",
    "\n",
    "# 定義圖片轉換\n",
    "test_transform = transforms.Compose([\n",
    "    transforms.Resize((32, 32)),  # 調整大小為 32x32\n",
    "    transforms.Grayscale(num_output_channels=1),  # 轉為單通道灰度圖像\n",
    "    transforms.ToTensor()  # 轉為張量\n",
    "\n",
    "])\n",
    "# 載入圖片\n",
    "img = Image.open('./test_images/HE.jpg')\n",
    "display(img)\n",
    "img = test_transform(img).to(device)\n",
    "# 增加一維，batch大小設為 1\n",
    "img = img.unsqueeze(0)\n",
    "\n",
    "\n",
    "# 載入模型\n",
    "model = torch.load('50on_model_all.pt')\n",
    "# 設置模型為評估模式\n",
    "model.eval().to(device)\n",
    "\n",
    "\n",
    "# 使用模型進行預測\n",
    "with torch.no_grad():\n",
    "    output = model(img)\n",
    "\n",
    "# 取得預測結果\n",
    "_, preds = torch.max(output, 1)\n",
    "label_dict = train_dataset.class_to_idx\n",
    "reverse_label_dict = {v: k for k, v in label_dict.items()}\n",
    "print(f'預測結果:{reverse_label_dict[preds.item()]}')"
   ],
   "metadata": {
    "collapsed": false,
    "ExecuteTime": {
     "end_time": "2023-05-09T10:45:57.320062700Z",
     "start_time": "2023-05-09T10:45:57.264112300Z"
    }
   }
  },
  {
   "cell_type": "code",
   "execution_count": 255,
   "outputs": [],
   "source": [],
   "metadata": {
    "collapsed": false,
    "ExecuteTime": {
     "end_time": "2023-05-09T10:45:57.320062700Z",
     "start_time": "2023-05-09T10:45:57.278515800Z"
    }
   }
  }
 ],
 "metadata": {
  "kernelspec": {
   "display_name": "Python 3",
   "language": "python",
   "name": "python3"
  },
  "language_info": {
   "codemirror_mode": {
    "name": "ipython",
    "version": 3
   },
   "file_extension": ".py",
   "mimetype": "text/x-python",
   "name": "python",
   "nbconvert_exporter": "python",
   "pygments_lexer": "ipython3",
   "version": "3.10.4"
  }
 },
 "nbformat": 4,
 "nbformat_minor": 0
}
