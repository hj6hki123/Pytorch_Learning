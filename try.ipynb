{
 "cells": [
  {
   "cell_type": "code",
   "execution_count": 1,
   "metadata": {
    "collapsed": true,
    "ExecuteTime": {
     "end_time": "2023-05-18T07:52:13.484755800Z",
     "start_time": "2023-05-18T07:52:11.675886300Z"
    }
   },
   "outputs": [],
   "source": [
    "from pathlib import Path\n",
    "\n",
    "import torch\n",
    "from torch import nn\n",
    "from torch.utils.data import Dataset, DataLoader\n",
    "import torchvision.datasets as datasets\n",
    "\n",
    "from torchvision import transforms\n",
    "from PIL import Image"
   ]
  },
  {
   "cell_type": "code",
   "execution_count": 21,
   "outputs": [],
   "source": [
    "# 數據預處理\n",
    "transform = transforms.Compose([\n",
    "    transforms.Resize((640, 640)),  # 調整大小為 32x32\n",
    "    transforms.Grayscale(num_output_channels=1),  # 轉為單通道灰度圖像\n",
    "    transforms.ToTensor(),  # 轉為張量\n",
    "    transforms.Normalize((0.5,), (0.5,))  # 歸一化\n",
    "])\n",
    "\n",
    "train_dataset = datasets.ImageFolder(root='./dataset/train_images', transform=transform) # datasets.ImageFolder 會將資料夾中的圖片依照資料夾名稱分類\n",
    "train_loader = DataLoader(train_dataset, batch_size=8, shuffle=False)  #每次訓練數量 = Data set size(*0.8) / Batch size = 800/20 = 40"
   ],
   "metadata": {
    "collapsed": false,
    "ExecuteTime": {
     "end_time": "2023-05-18T08:02:20.238296800Z",
     "start_time": "2023-05-18T08:02:20.225558700Z"
    }
   }
  },
  {
   "cell_type": "code",
   "execution_count": 22,
   "outputs": [
    {
     "name": "stdout",
     "output_type": "stream",
     "text": [
      "tensor([0, 0, 0, 0, 0, 0, 0, 0])\n",
      "tensor([0, 0, 0, 0, 0, 0, 0, 0])\n",
      "tensor([0, 0, 0, 0, 1, 1, 1, 1])\n",
      "tensor([1, 1, 1, 1, 1, 1, 1, 1])\n",
      "tensor([1, 1, 1, 1, 1, 1, 1, 1])\n",
      "tensor([2, 2, 2, 2, 2, 2, 2, 2])\n",
      "tensor([2, 2, 2, 2, 2, 2, 2, 2])\n",
      "tensor([2, 2, 2, 2, 3, 3, 3, 3])\n",
      "tensor([3, 3, 3, 3, 3, 3, 3, 3])\n",
      "tensor([3, 3, 3, 3, 3, 3, 3, 3])\n",
      "tensor([4, 4, 4, 4, 4, 4, 4, 4])\n",
      "tensor([4, 4, 4, 4, 4, 4, 4, 4])\n",
      "tensor([4, 4, 4, 4, 5, 5, 5, 5])\n",
      "tensor([5, 5, 5, 5, 5, 5, 5, 5])\n",
      "tensor([5, 5, 5, 5, 5, 5, 5, 5])\n",
      "tensor([6, 6, 6, 6, 6, 6, 6, 6])\n",
      "tensor([6, 6, 6, 6, 6, 6, 6, 6])\n",
      "tensor([6, 6, 6, 6, 7, 7, 7, 7])\n",
      "tensor([7, 7, 7, 7, 7, 7, 7, 7])\n",
      "tensor([7, 7, 7, 7, 7, 7, 7, 7])\n",
      "tensor([8, 8, 8, 8, 8, 8, 8, 8])\n",
      "tensor([8, 8, 8, 8, 8, 8, 8, 8])\n",
      "tensor([8, 8, 8, 8, 9, 9, 9, 9])\n",
      "tensor([9, 9, 9, 9, 9, 9, 9, 9])\n",
      "tensor([9, 9, 9, 9, 9, 9, 9, 9])\n",
      "tensor([10, 10, 10, 10, 10, 10, 10, 10])\n",
      "tensor([10, 10, 10, 10, 10, 10, 10, 10])\n",
      "tensor([10, 10, 10, 10, 11, 11, 11, 11])\n",
      "tensor([11, 11, 11, 11, 11, 11, 11, 11])\n",
      "tensor([11, 11, 11, 11, 11, 11, 11, 11])\n",
      "tensor([12, 12, 12, 12, 12, 12, 12, 12])\n",
      "tensor([12, 12, 12, 12, 12, 12, 12, 12])\n",
      "tensor([12, 12, 12, 12, 13, 13, 13, 13])\n",
      "tensor([13, 13, 13, 13, 13, 13, 13, 13])\n",
      "tensor([13, 13, 13, 13, 13, 13, 13, 13])\n",
      "tensor([14, 14, 14, 14, 14, 14, 14, 14])\n",
      "tensor([14, 14, 14, 14, 14, 14, 14, 14])\n",
      "tensor([14, 14, 14, 14, 15, 15, 15, 15])\n",
      "tensor([15, 15, 15, 15, 15, 15, 15, 15])\n",
      "tensor([15, 15, 15, 15, 15, 15, 15, 15])\n",
      "tensor([16, 16, 16, 16, 16, 16, 16, 16])\n",
      "tensor([16, 16, 16, 16, 16, 16, 16, 16])\n",
      "tensor([16, 16, 16, 16, 17, 17, 17, 17])\n",
      "tensor([17, 17, 17, 17, 17, 17, 17, 17])\n",
      "tensor([17, 17, 17, 17, 17, 17, 17, 17])\n",
      "tensor([18, 18, 18, 18, 18, 18, 18, 18])\n",
      "tensor([18, 18, 18, 18, 18, 18, 18, 18])\n",
      "tensor([18, 18, 18, 18, 19, 19, 19, 19])\n",
      "tensor([19, 19, 19, 19, 19, 19, 19, 19])\n",
      "tensor([19, 19, 19, 19, 19, 19, 19, 19])\n",
      "tensor([20, 20, 20, 20, 20, 20, 20, 20])\n",
      "tensor([20, 20, 20, 20, 20, 20, 20, 20])\n",
      "tensor([20, 20, 20, 20, 21, 21, 21, 21])\n",
      "tensor([21, 21, 21, 21, 21, 21, 21, 21])\n",
      "tensor([21, 21, 21, 21, 21, 21, 21, 21])\n",
      "tensor([22, 22, 22, 22, 22, 22, 22, 22])\n",
      "tensor([22, 22, 22, 22, 22, 22, 22, 22])\n",
      "tensor([22, 22, 22, 22, 23, 23, 23, 23])\n",
      "tensor([23, 23, 23, 23, 23, 23, 23, 23])\n",
      "tensor([23, 23, 23, 23, 23, 23, 23, 23])\n",
      "tensor([24, 24, 24, 24, 24, 24, 24, 24])\n",
      "tensor([24, 24, 24, 24, 24, 24, 24, 24])\n",
      "tensor([24, 24, 24, 24, 25, 25, 25, 25])\n",
      "tensor([25, 25, 25, 25, 25, 25, 25, 25])\n",
      "tensor([25, 25, 25, 25, 25, 25, 25, 25])\n",
      "tensor([26, 26, 26, 26, 26, 26, 26, 26])\n",
      "tensor([26, 26, 26, 26, 26, 26, 26, 26])\n",
      "tensor([26, 26, 26, 26, 27, 27, 27, 27])\n",
      "tensor([27, 27, 27, 27, 27, 27, 27, 27])\n",
      "tensor([27, 27, 27, 27, 27, 27, 27, 27])\n",
      "tensor([28, 28, 28, 28, 28, 28, 28, 28])\n",
      "tensor([28, 28, 28, 28, 28, 28, 28, 28])\n",
      "tensor([28, 28, 28, 28, 29, 29, 29, 29])\n",
      "tensor([29, 29, 29, 29, 29, 29, 29, 29])\n",
      "tensor([29, 29, 29, 29, 29, 29, 29, 29])\n",
      "tensor([30, 30, 30, 30, 30, 30, 30, 30])\n",
      "tensor([30, 30, 30, 30, 30, 30, 30, 30])\n",
      "tensor([30, 30, 30, 30, 31, 31, 31, 31])\n",
      "tensor([31, 31, 31, 31, 31, 31, 31, 31])\n",
      "tensor([31, 31, 31, 31, 31, 31, 31, 31])\n",
      "tensor([32, 32, 32, 32, 32, 32, 32, 32])\n",
      "tensor([32, 32, 32, 32, 32, 32, 32, 32])\n",
      "tensor([32, 32, 32, 32, 33, 33, 33, 33])\n",
      "tensor([33, 33, 33, 33, 33, 33, 33, 33])\n",
      "tensor([33, 33, 33, 33, 33, 33, 33, 33])\n",
      "tensor([34, 34, 34, 34, 34, 34, 34, 34])\n",
      "tensor([34, 34, 34, 34, 34, 34, 34, 34])\n",
      "tensor([34, 34, 34, 34, 35, 35, 35, 35])\n",
      "tensor([35, 35, 35, 35, 35, 35, 35, 35])\n",
      "tensor([35, 35, 35, 35, 35, 35, 35, 35])\n",
      "tensor([36, 36, 36, 36, 36, 36, 36, 36])\n",
      "tensor([36, 36, 36, 36, 36, 36, 36, 36])\n",
      "tensor([36, 36, 36, 36, 37, 37, 37, 37])\n",
      "tensor([37, 37, 37, 37, 37, 37, 37, 37])\n",
      "tensor([37, 37, 37, 37, 37, 37, 37, 37])\n",
      "tensor([38, 38, 38, 38, 38, 38, 38, 38])\n",
      "tensor([38, 38, 38, 38, 38, 38, 38, 38])\n",
      "tensor([38, 38, 38, 38, 39, 39, 39, 39])\n",
      "tensor([39, 39, 39, 39, 39, 39, 39, 39])\n",
      "tensor([39, 39, 39, 39, 39, 39, 39, 39])\n",
      "tensor([40, 40, 40, 40, 40, 40, 40, 40])\n",
      "tensor([40, 40, 40, 40, 40, 40, 40, 40])\n",
      "tensor([40, 40, 40, 40, 41, 41, 41, 41])\n",
      "tensor([41, 41, 41, 41, 41, 41, 41, 41])\n",
      "tensor([41, 41, 41, 41, 41, 41, 41, 41])\n",
      "tensor([42, 42, 42, 42, 42, 42, 42, 42])\n",
      "tensor([42, 42, 42, 42, 42, 42, 42, 42])\n",
      "tensor([42, 42, 42, 42, 43, 43, 43, 43])\n",
      "tensor([43, 43, 43, 43, 43, 43, 43, 43])\n",
      "tensor([43, 43, 43, 43, 43, 43, 43, 43])\n",
      "tensor([44, 44, 44, 44, 44, 44, 44, 44])\n",
      "tensor([44, 44, 44, 44, 44, 44, 44, 44])\n",
      "tensor([44, 44, 44, 44, 45, 45, 45, 45])\n",
      "tensor([45, 45, 45, 45, 45, 45, 45, 45])\n",
      "tensor([45, 45, 45, 45, 45, 45, 45, 45])\n",
      "tensor([46, 46, 46, 46, 46, 46, 46, 46])\n",
      "tensor([46, 46, 46, 46, 46, 46, 46, 46])\n",
      "tensor([46, 46, 46, 46, 47, 47, 47, 47])\n",
      "tensor([47, 47, 47, 47, 47, 47, 47, 47])\n",
      "tensor([47, 47, 47, 47, 47, 47, 47, 47])\n",
      "tensor([48, 48, 48, 48, 48, 48, 48, 48])\n",
      "tensor([48, 48, 48, 48, 48, 48, 48, 48])\n",
      "tensor([48, 48, 48, 48, 49, 49, 49, 49])\n",
      "tensor([49, 49, 49, 49, 49, 49, 49, 49])\n",
      "tensor([49, 49, 49, 49, 49, 49, 49, 49])\n"
     ]
    }
   ],
   "source": [
    "toPIL = transforms.ToPILImage()\n",
    "a = 0\n",
    "\n",
    "for i,_ in train_loader:\n",
    "    toPIL(i[0][0]).save('./pic.jpg')\n",
    "    print(_)\n",
    "\n"
   ],
   "metadata": {
    "collapsed": false,
    "ExecuteTime": {
     "end_time": "2023-05-18T08:02:26.450942200Z",
     "start_time": "2023-05-18T08:02:21.464469100Z"
    }
   }
  },
  {
   "cell_type": "code",
   "execution_count": null,
   "outputs": [],
   "source": [],
   "metadata": {
    "collapsed": false
   }
  }
 ],
 "metadata": {
  "kernelspec": {
   "display_name": "Python 3",
   "language": "python",
   "name": "python3"
  },
  "language_info": {
   "codemirror_mode": {
    "name": "ipython",
    "version": 2
   },
   "file_extension": ".py",
   "mimetype": "text/x-python",
   "name": "python",
   "nbconvert_exporter": "python",
   "pygments_lexer": "ipython2",
   "version": "2.7.6"
  }
 },
 "nbformat": 4,
 "nbformat_minor": 0
}
