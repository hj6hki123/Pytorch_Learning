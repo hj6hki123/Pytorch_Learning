{
 "cells": [
  {
   "cell_type": "markdown",
   "source": [
    "# 圖片分類"
   ],
   "metadata": {
    "collapsed": false
   }
  },
  {
   "cell_type": "code",
   "execution_count": null,
   "outputs": [],
   "source": [
    "import os\n",
    "import shutil\n",
    "\n",
    "# 建立目標資料夾\n",
    "if not os.path.exists('./my_images'):\n",
    "    os.mkdir('./my_images')\n",
    "\n",
    "# 遍歷資料夾中的檔案\n",
    "for filename in os.listdir('./hiragana_images'):\n",
    "    # 判斷檔案是否為 jpg 檔\n",
    "    if filename.endswith('.jpg'):\n",
    "        # 取得檔名中的非數字字元\n",
    "        class_name = os.path.splitext(''.join(filter(lambda x: not x.isdigit(), filename)))[0]\n",
    "        # 建立目標資料夾\n",
    "        target_folder = os.path.join('./my_images', class_name)\n",
    "        if not os.path.exists(target_folder):\n",
    "            os.mkdir(target_folder)\n",
    "        # 複製檔案到對應的資料夾中\n",
    "        shutil.copy(os.path.join('./hiragana_images', filename), os.path.join(target_folder, filename))\n"
   ],
   "metadata": {
    "collapsed": false
   }
  },
  {
   "cell_type": "markdown",
   "source": [
    "# 訓練"
   ],
   "metadata": {
    "collapsed": false
   }
  },
  {
   "cell_type": "code",
   "execution_count": 1,
   "outputs": [],
   "source": [
    "import torch\n",
    "import torch.nn as nn\n",
    "import torch.optim as optim\n",
    "import torchvision.datasets as datasets\n",
    "import torchvision.transforms as transforms\n",
    "from torch.utils.data import DataLoader"
   ],
   "metadata": {
    "collapsed": false,
    "ExecuteTime": {
     "end_time": "2023-05-08T06:21:57.501847900Z",
     "start_time": "2023-05-08T06:21:55.525706700Z"
    }
   }
  },
  {
   "cell_type": "code",
   "execution_count": 2,
   "outputs": [],
   "source": [
    "# 超参数\n",
    "num_classes = 50  # 50音分类\n",
    "batch_size = 20\n",
    "num_epochs = 10\n",
    "learning_rate = 0.001"
   ],
   "metadata": {
    "collapsed": false,
    "ExecuteTime": {
     "end_time": "2023-05-08T06:21:58.086347800Z",
     "start_time": "2023-05-08T06:21:58.077678800Z"
    }
   }
  },
  {
   "cell_type": "code",
   "execution_count": 3,
   "outputs": [],
   "source": [
    "# 数据预处理\n",
    "transform = transforms.Compose([\n",
    "    transforms.Resize((32, 32)),  # 调整大小为 32x32\n",
    "    transforms.Grayscale(num_output_channels=1),  # 转为单通道灰度图像\n",
    "    transforms.ToTensor()  # 转为张量\n",
    "])"
   ],
   "metadata": {
    "collapsed": false,
    "ExecuteTime": {
     "end_time": "2023-05-08T06:21:58.564031Z",
     "start_time": "2023-05-08T06:21:58.555101400Z"
    }
   }
  },
  {
   "cell_type": "code",
   "execution_count": 4,
   "outputs": [],
   "source": [
    "# 载入数据集\n",
    "train_dataset = datasets.ImageFolder(root='F:\\pycharm_pro\\pytorch_learn\\my_images', transform=transform)\n",
    "train_loader = DataLoader(train_dataset, batch_size=batch_size, shuffle=True)\n",
    "label_dict = train_dataset.class_to_idx\n",
    "\n",
    "# test_dataset = datasets.ImageFolder(root='F:/pycharm_pro/pytorch_learn/test_images', transform=transform)\n",
    "# test_loader = DataLoader(test_dataset, batch_size=batch_size, shuffle=False)\n"
   ],
   "metadata": {
    "collapsed": false,
    "ExecuteTime": {
     "end_time": "2023-05-08T06:21:59.560338300Z",
     "start_time": "2023-05-08T06:21:59.540366900Z"
    }
   }
  },
  {
   "cell_type": "code",
   "execution_count": 5,
   "outputs": [],
   "source": [
    "# 定义模型\n",
    "class ConvNet(nn.Module):\n",
    "    def __init__(self):\n",
    "        super(ConvNet, self).__init__()\n",
    "        self.layer1 = nn.Sequential(\n",
    "            nn.Conv2d(1, 16, kernel_size=5, stride=1, padding=2),\n",
    "            nn.BatchNorm2d(16),\n",
    "            nn.ReLU(),\n",
    "            nn.MaxPool2d(kernel_size=2, stride=2))\n",
    "        self.layer2 = nn.Sequential(\n",
    "            nn.Conv2d(16, 32, kernel_size=5, stride=1, padding=2),\n",
    "            nn.BatchNorm2d(32),\n",
    "            nn.ReLU(),\n",
    "            nn.MaxPool2d(kernel_size=2, stride=2))\n",
    "        self.fc = nn.Linear(8*8*32, num_classes)\n",
    "\n",
    "    def forward(self, x):\n",
    "        out = self.layer1(x)\n",
    "        out = self.layer2(out)\n",
    "        out = out.reshape(out.size(0), -1)\n",
    "        out = self.fc(out)\n",
    "        return out\n"
   ],
   "metadata": {
    "collapsed": false,
    "ExecuteTime": {
     "end_time": "2023-05-08T06:22:00.248765500Z",
     "start_time": "2023-05-08T06:22:00.226548400Z"
    }
   }
  },
  {
   "cell_type": "code",
   "execution_count": 6,
   "outputs": [],
   "source": [
    "# 实例化模型、损失函数和优化器\n",
    "model = ConvNet()\n",
    "criterion = nn.CrossEntropyLoss()\n",
    "optimizer = optim.Adam(model.parameters(), lr=learning_rate)\n"
   ],
   "metadata": {
    "collapsed": false,
    "ExecuteTime": {
     "end_time": "2023-05-08T06:22:01.000805100Z",
     "start_time": "2023-05-08T06:22:00.992417200Z"
    }
   }
  },
  {
   "cell_type": "code",
   "execution_count": 7,
   "outputs": [
    {
     "name": "stdout",
     "output_type": "stream",
     "text": [
      "Epoch [1/10], Step [10/50], Loss: 3.5841\n",
      "Epoch [1/10], Step [20/50], Loss: 1.9819\n",
      "Epoch [1/10], Step [30/50], Loss: 0.9321\n",
      "Epoch [1/10], Step [40/50], Loss: 0.5037\n",
      "Epoch [1/10], Step [50/50], Loss: 0.4462\n",
      "Epoch [2/10], Step [10/50], Loss: 0.1532\n",
      "Epoch [2/10], Step [20/50], Loss: 0.0967\n",
      "Epoch [2/10], Step [30/50], Loss: 0.1233\n",
      "Epoch [2/10], Step [40/50], Loss: 0.1963\n",
      "Epoch [2/10], Step [50/50], Loss: 0.0874\n",
      "Epoch [3/10], Step [10/50], Loss: 0.0387\n",
      "Epoch [3/10], Step [20/50], Loss: 0.1032\n",
      "Epoch [3/10], Step [30/50], Loss: 0.0648\n",
      "Epoch [3/10], Step [40/50], Loss: 0.1433\n",
      "Epoch [3/10], Step [50/50], Loss: 0.0875\n",
      "Epoch [4/10], Step [10/50], Loss: 0.0351\n",
      "Epoch [4/10], Step [20/50], Loss: 0.0171\n",
      "Epoch [4/10], Step [30/50], Loss: 0.0181\n",
      "Epoch [4/10], Step [40/50], Loss: 0.0115\n",
      "Epoch [4/10], Step [50/50], Loss: 0.0318\n",
      "Epoch [5/10], Step [10/50], Loss: 0.0155\n",
      "Epoch [5/10], Step [20/50], Loss: 0.0056\n",
      "Epoch [5/10], Step [30/50], Loss: 0.0093\n",
      "Epoch [5/10], Step [40/50], Loss: 0.0090\n",
      "Epoch [5/10], Step [50/50], Loss: 0.0087\n",
      "Epoch [6/10], Step [10/50], Loss: 0.0051\n",
      "Epoch [6/10], Step [20/50], Loss: 0.0048\n",
      "Epoch [6/10], Step [30/50], Loss: 0.0091\n",
      "Epoch [6/10], Step [40/50], Loss: 0.0059\n",
      "Epoch [6/10], Step [50/50], Loss: 0.0066\n",
      "Epoch [7/10], Step [10/50], Loss: 0.0060\n",
      "Epoch [7/10], Step [20/50], Loss: 0.0062\n",
      "Epoch [7/10], Step [30/50], Loss: 0.0071\n",
      "Epoch [7/10], Step [40/50], Loss: 0.0094\n",
      "Epoch [7/10], Step [50/50], Loss: 0.0084\n",
      "Epoch [8/10], Step [10/50], Loss: 0.0034\n",
      "Epoch [8/10], Step [20/50], Loss: 0.0043\n",
      "Epoch [8/10], Step [30/50], Loss: 0.0045\n",
      "Epoch [8/10], Step [40/50], Loss: 0.0022\n",
      "Epoch [8/10], Step [50/50], Loss: 0.0043\n",
      "Epoch [9/10], Step [10/50], Loss: 0.0051\n",
      "Epoch [9/10], Step [20/50], Loss: 0.0040\n",
      "Epoch [9/10], Step [30/50], Loss: 0.0036\n",
      "Epoch [9/10], Step [40/50], Loss: 0.0029\n",
      "Epoch [9/10], Step [50/50], Loss: 0.0039\n",
      "Epoch [10/10], Step [10/50], Loss: 0.0043\n",
      "Epoch [10/10], Step [20/50], Loss: 0.0020\n",
      "Epoch [10/10], Step [30/50], Loss: 0.0028\n",
      "Epoch [10/10], Step [40/50], Loss: 0.0048\n",
      "Epoch [10/10], Step [50/50], Loss: 0.0037\n"
     ]
    }
   ],
   "source": [
    "# 训练模型\n",
    "total_step = len(train_loader)\n",
    "for epoch in range(num_epochs):\n",
    "    for i, (images, labels) in enumerate(train_loader):\n",
    "        # 前向传播\n",
    "        outputs = model(images)\n",
    "        loss = criterion(outputs, labels)\n",
    "\n",
    "        # 反向传播和优化\n",
    "        optimizer.zero_grad()\n",
    "        loss.backward()\n",
    "        optimizer.step()\n",
    "\n",
    "        if (i+1) % 10 == 0:\n",
    "            print('Epoch [{}/{}], Step [{}/{}], Loss: {:.4f}'\n",
    "                  .format(epoch+1, num_epochs, i+1, total_step, loss.item()))\n"
   ],
   "metadata": {
    "collapsed": false,
    "ExecuteTime": {
     "end_time": "2023-05-08T06:22:10.217008300Z",
     "start_time": "2023-05-08T06:22:01.867473100Z"
    }
   }
  },
  {
   "cell_type": "code",
   "execution_count": 8,
   "outputs": [],
   "source": [
    "# # 测试模型\n",
    "# model.eval()\n",
    "# with torch.no_grad():\n",
    "#     correct = 0\n",
    "#     total = 0\n",
    "#     for images, labels in test_loader:\n",
    "#         outputs = model(images)\n",
    "#         _, predicted = torch.max(outputs.data, 1)\n",
    "#         total += labels.size(0)\n",
    "#         correct += (predicted == labels).sum().item()\n",
    "#     print('Accuracy of the model on the test images: {} %'.format(100 * correct / total))\n"
   ],
   "metadata": {
    "collapsed": false,
    "ExecuteTime": {
     "end_time": "2023-05-08T06:22:10.220277300Z",
     "start_time": "2023-05-08T06:22:10.219271100Z"
    }
   }
  },
  {
   "cell_type": "code",
   "execution_count": 9,
   "outputs": [],
   "source": [
    "# 保存模型\n",
    "torch.save(model.state_dict(), '50on_model.ckpt')"
   ],
   "metadata": {
    "collapsed": false,
    "ExecuteTime": {
     "end_time": "2023-05-08T06:22:11.959138Z",
     "start_time": "2023-05-08T06:22:11.951473Z"
    }
   }
  },
  {
   "cell_type": "markdown",
   "source": [
    "# 手寫測試"
   ],
   "metadata": {
    "collapsed": false
   }
  },
  {
   "cell_type": "code",
   "execution_count": 12,
   "outputs": [
    {
     "name": "stdout",
     "output_type": "stream",
     "text": [
      "{'kanaA': 0, 'kanaBA': 1, 'kanaCHI': 2, 'kanaDA': 3, 'kanaE': 4, 'kanaFU': 5, 'kanaHA': 6, 'kanaHE': 7, 'kanaHI': 8, 'kanaHO': 9, 'kanaI': 10, 'kanaJI': 11, 'kanaKA': 12, 'kanaKE': 13, 'kanaKI': 14, 'kanaKO': 15, 'kanaKU': 16, 'kanaMA': 17, 'kanaME': 18, 'kanaMI': 19, 'kanaMO': 20, 'kanaMU': 21, 'kanaN': 22, 'kanaNA': 23, 'kanaNE': 24, 'kanaNI': 25, 'kanaNO': 26, 'kanaNU': 27, 'kanaO': 28, 'kanaPI': 29, 'kanaRA': 30, 'kanaRE': 31, 'kanaRI': 32, 'kanaRO': 33, 'kanaRU': 34, 'kanaSA': 35, 'kanaSE': 36, 'kanaSHI': 37, 'kanaSO': 38, 'kanaSU': 39, 'kanaTA': 40, 'kanaTE': 41, 'kanaTO': 42, 'kanaTSU': 43, 'kanaU': 44, 'kanaWA': 45, 'kanaWO': 46, 'kanaYA': 47, 'kanaYO': 48, 'kanaYU': 49}\n",
      "7\n"
     ]
    }
   ],
   "source": [
    "from PIL import Image\n",
    "# 轉換圖片\n",
    "test_transform = transforms.Compose([\n",
    "    transforms.Resize((32, 32)),\n",
    "    transforms.ToTensor(),\n",
    "])\n",
    "\n",
    "# 載入圖片\n",
    "img = Image.open('F:\\\\pycharm_pro\\\\pytorch_learn\\\\test_images\\\\HE.jpg').convert('L')\n",
    "img = test_transform(img)\n",
    "\n",
    "# 增加一維，批次大小設為 1\n",
    "img = img.unsqueeze(0)\n",
    "\n",
    "# 使用訓練好的模型進行預測\n",
    "model.eval()\n",
    "with torch.no_grad():\n",
    "    output = model(img)\n",
    "    pred = output.argmax(dim=1)\n",
    "\n",
    "\n",
    "print(label_dict)\n",
    "print(pred.item())"
   ],
   "metadata": {
    "collapsed": false,
    "ExecuteTime": {
     "end_time": "2023-05-08T06:23:23.220367200Z",
     "start_time": "2023-05-08T06:23:23.215004200Z"
    }
   }
  },
  {
   "cell_type": "code",
   "execution_count": null,
   "outputs": [],
   "source": [],
   "metadata": {
    "collapsed": false
   }
  }
 ],
 "metadata": {
  "kernelspec": {
   "display_name": "Python 3",
   "language": "python",
   "name": "python3"
  },
  "language_info": {
   "codemirror_mode": {
    "name": "ipython",
    "version": 2
   },
   "file_extension": ".py",
   "mimetype": "text/x-python",
   "name": "python",
   "nbconvert_exporter": "python",
   "pygments_lexer": "ipython2",
   "version": "2.7.6"
  }
 },
 "nbformat": 4,
 "nbformat_minor": 0
}
